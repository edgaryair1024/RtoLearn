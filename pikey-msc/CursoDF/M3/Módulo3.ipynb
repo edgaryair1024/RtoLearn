{
  "nbformat": 4,
  "nbformat_minor": 0,
  "metadata": {
    "colab": {
      "name": "Módulo3.ipynb",
      "provenance": [],
      "collapsed_sections": [],
      "toc_visible": true,
      "include_colab_link": true
    },
    "kernelspec": {
      "name": "python3",
      "display_name": "Python 3"
    },
    "accelerator": "GPU"
  },
  "cells": [
    {
      "cell_type": "markdown",
      "metadata": {
        "id": "view-in-github",
        "colab_type": "text"
      },
      "source": [
        "<a href=\"https://colab.research.google.com/github/pikey-msc/CursoDF/blob/master/pikey-msc/CursoDF/M3/M%C3%B3dulo3.ipynb\" target=\"_parent\"><img src=\"https://colab.research.google.com/assets/colab-badge.svg\" alt=\"Open In Colab\"/></a>"
      ]
    },
    {
      "cell_type": "code",
      "metadata": {
        "id": "3scBLddrzrla",
        "colab_type": "code",
        "outputId": "c8f20eb6-29e6-437b-f12c-3f3f879ba62e",
        "colab": {
          "base_uri": "https://localhost:8080/",
          "height": 34
        }
      },
      "source": [
        "!git clone 'https://github.com/pikey-msc/CursoDF'"
      ],
      "execution_count": 57,
      "outputs": [
        {
          "output_type": "stream",
          "text": [
            "fatal: destination path 'CursoDF' already exists and is not an empty directory.\n"
          ],
          "name": "stdout"
        }
      ]
    },
    {
      "cell_type": "code",
      "metadata": {
        "id": "Iw8tZOJ2CnBL",
        "colab_type": "code",
        "colab": {
          "base_uri": "https://localhost:8080/",
          "height": 50
        },
        "outputId": "1ff6f2a5-3e6f-40b7-d688-175948b8eeae"
      },
      "source": [
        "%load_ext rpy2.ipython"
      ],
      "execution_count": 58,
      "outputs": [
        {
          "output_type": "stream",
          "text": [
            "The rpy2.ipython extension is already loaded. To reload it, use:\n",
            "  %reload_ext rpy2.ipython\n"
          ],
          "name": "stdout"
        }
      ]
    },
    {
      "cell_type": "markdown",
      "metadata": {
        "id": "2BSbruRn6l0u",
        "colab_type": "text"
      },
      "source": [
        "## Regresión lineal"
      ]
    },
    {
      "cell_type": "markdown",
      "metadata": {
        "id": "Fa2PGYsy7Kjq",
        "colab_type": "text"
      },
      "source": [
        "En el análisis de regresión lineal múltiple se utiliza más de una variable explicativa, se busca definir que, del conjunto de variables, cuales son las que más influyen. Los valores de la variable dependiente $Y$ se generan a partir de una combinación lineal de los valores de una o más variables explicativas y un término aleatorio\n",
        "$y = \\beta_0 + \\beta_1 x_1 + \\beta_2 x_2 + ... + \\beta_k x_k + u$ \n",
        "Los coeficientes son elegidos de forma que la suma de cuadrados entre los valores observados y los pronosticados sea mínima, es decir, que se va a minimizar la varianza residual.\n",
        "\n",
        "En la práctica se debe elegir cuidadosamente las variables que se consideraran como explicativas. Algunos criterios que deben de cumplir son los siguientes:\n",
        "\n",
        "*   Tener sentido numérico\n",
        "*   Evitar variables repetidas o redundantes\n",
        "\n",
        "*   Justificación teórica\n",
        "*   La relación entre variables explicativas en el modelo y casos debe de ser como mínimo de 1 a 10\n",
        "\n",
        "*   La relación de las variables explicativas con la variable dependiente debe de ser lineal, es decir, proporcional\n",
        "\n",
        "El modelo de regresión múltiple debe cumplir con las siguientes hipótesis:\n",
        "\n",
        "\n",
        "1.   Linealidad: Los valores de la variable dependiente están generados por el siguiente modelo lineal: $Y=X \\beta +U$\n",
        "2.   Homocedasticidad: Las perturbaciones tienen la misma varianza $V(u_i)=\\sigma^2$\n",
        "\n",
        "1.   Independencia: Las perturbaciones aleatorias son independientes entre sí.\n",
        "2.   Normalidad: La distribución de la perturbación aleatoria es normal\n",
        "1.   Las variables explicativas $X_k$ se obtienen son errores de medida\n",
        "\n",
        "\n",
        "\n",
        "\n",
        "\n"
      ]
    },
    {
      "cell_type": "code",
      "metadata": {
        "id": "nbtm4n6gCnHE",
        "colab_type": "code",
        "outputId": "7e3c828e-02d3-4f10-b502-c060a864185a",
        "colab": {
          "base_uri": "https://localhost:8080/",
          "height": 1000
        }
      },
      "source": [
        "%%R\n",
        "#Instalamos las bibliotecas que utilizaremos\n",
        "install.packages(\"MPDiR\")    # Donde estan los datos Chromatic\n",
        "install.packages(\"dplyr\")    # Para manipulación de datos\n",
        "install.packages(\"ggplot2\")  # Para poder gráficar\n",
        "install.packages(\"lattice\")  # Para poder graficar xyplot y condicionados\n",
        "install.packages(\"readxl\")   # Para abrir archivos en excel\n",
        "install.packages(\"MASS\")     # Para hacer regresiones de tipo binomial negativa\n",
        "install.packages(\"caret\")\n",
        "install.packages(\"caret\")    # Permite evaluar los modelos de regresion\n",
        "install.packages(\"plotly\")   # Para hacer gráficos dinámicos\n",
        "install.packages(\"mlbench\")  # Permite obtener los datos de Sonar\n",
        "install.packages(\"e1071\")    # Solucion error caret\n",
        "install.packages(\"caTools\")  # Permite calcular el score AUC de la Curva ROC\n",
        "install.packages(\"matlib\")"
      ],
      "execution_count": 59,
      "outputs": [
        {
          "output_type": "stream",
          "text": [
            "/usr/local/lib/python3.6/dist-packages/rpy2/rinterface/__init__.py:146: RRuntimeWarning: Installing package into ‘/usr/local/lib/R/site-library’\n",
            "(as ‘lib’ is unspecified)\n",
            "\n",
            "  warnings.warn(x, RRuntimeWarning)\n",
            "/usr/local/lib/python3.6/dist-packages/rpy2/rinterface/__init__.py:146: RRuntimeWarning: trying URL 'https://cran.rstudio.com/src/contrib/MPDiR_0.1-16.tar.gz'\n",
            "\n",
            "  warnings.warn(x, RRuntimeWarning)\n",
            "/usr/local/lib/python3.6/dist-packages/rpy2/rinterface/__init__.py:146: RRuntimeWarning: Content type 'application/x-gzip'\n",
            "  warnings.warn(x, RRuntimeWarning)\n",
            "/usr/local/lib/python3.6/dist-packages/rpy2/rinterface/__init__.py:146: RRuntimeWarning:  length 171284 bytes (167 KB)\n",
            "\n",
            "  warnings.warn(x, RRuntimeWarning)\n",
            "/usr/local/lib/python3.6/dist-packages/rpy2/rinterface/__init__.py:146: RRuntimeWarning: =\n",
            "  warnings.warn(x, RRuntimeWarning)\n",
            "/usr/local/lib/python3.6/dist-packages/rpy2/rinterface/__init__.py:146: RRuntimeWarning: \n",
            "\n",
            "  warnings.warn(x, RRuntimeWarning)\n",
            "/usr/local/lib/python3.6/dist-packages/rpy2/rinterface/__init__.py:146: RRuntimeWarning: downloaded 167 KB\n",
            "\n",
            "\n",
            "  warnings.warn(x, RRuntimeWarning)\n",
            "/usr/local/lib/python3.6/dist-packages/rpy2/rinterface/__init__.py:146: RRuntimeWarning: \n",
            "  warnings.warn(x, RRuntimeWarning)\n",
            "/usr/local/lib/python3.6/dist-packages/rpy2/rinterface/__init__.py:146: RRuntimeWarning: The downloaded source packages are in\n",
            "\t‘/tmp/Rtmp9eoA8Z/downloaded_packages’\n",
            "  warnings.warn(x, RRuntimeWarning)\n",
            "/usr/local/lib/python3.6/dist-packages/rpy2/rinterface/__init__.py:146: RRuntimeWarning: trying URL 'https://cran.rstudio.com/src/contrib/dplyr_0.8.3.tar.gz'\n",
            "\n",
            "  warnings.warn(x, RRuntimeWarning)\n",
            "/usr/local/lib/python3.6/dist-packages/rpy2/rinterface/__init__.py:146: RRuntimeWarning:  length 1173098 bytes (1.1 MB)\n",
            "\n",
            "  warnings.warn(x, RRuntimeWarning)\n",
            "/usr/local/lib/python3.6/dist-packages/rpy2/rinterface/__init__.py:146: RRuntimeWarning: downloaded 1.1 MB\n",
            "\n",
            "\n",
            "  warnings.warn(x, RRuntimeWarning)\n",
            "/usr/local/lib/python3.6/dist-packages/rpy2/rinterface/__init__.py:146: RRuntimeWarning: trying URL 'https://cran.rstudio.com/src/contrib/ggplot2_3.2.1.tar.gz'\n",
            "\n",
            "  warnings.warn(x, RRuntimeWarning)\n",
            "/usr/local/lib/python3.6/dist-packages/rpy2/rinterface/__init__.py:146: RRuntimeWarning:  length 3204655 bytes (3.1 MB)\n",
            "\n",
            "  warnings.warn(x, RRuntimeWarning)\n",
            "/usr/local/lib/python3.6/dist-packages/rpy2/rinterface/__init__.py:146: RRuntimeWarning: downloaded 3.1 MB\n",
            "\n",
            "\n",
            "  warnings.warn(x, RRuntimeWarning)\n",
            "/usr/local/lib/python3.6/dist-packages/rpy2/rinterface/__init__.py:146: RRuntimeWarning: trying URL 'https://cran.rstudio.com/src/contrib/lattice_0.20-38.tar.gz'\n",
            "\n",
            "  warnings.warn(x, RRuntimeWarning)\n",
            "/usr/local/lib/python3.6/dist-packages/rpy2/rinterface/__init__.py:146: RRuntimeWarning:  length 359031 bytes (350 KB)\n",
            "\n",
            "  warnings.warn(x, RRuntimeWarning)\n",
            "/usr/local/lib/python3.6/dist-packages/rpy2/rinterface/__init__.py:146: RRuntimeWarning: downloaded 350 KB\n",
            "\n",
            "\n",
            "  warnings.warn(x, RRuntimeWarning)\n",
            "/usr/local/lib/python3.6/dist-packages/rpy2/rinterface/__init__.py:146: RRuntimeWarning: trying URL 'https://cran.rstudio.com/src/contrib/readxl_1.3.1.tar.gz'\n",
            "\n",
            "  warnings.warn(x, RRuntimeWarning)\n",
            "/usr/local/lib/python3.6/dist-packages/rpy2/rinterface/__init__.py:146: RRuntimeWarning:  length 2056165 bytes (2.0 MB)\n",
            "\n",
            "  warnings.warn(x, RRuntimeWarning)\n",
            "/usr/local/lib/python3.6/dist-packages/rpy2/rinterface/__init__.py:146: RRuntimeWarning: downloaded 2.0 MB\n",
            "\n",
            "\n",
            "  warnings.warn(x, RRuntimeWarning)\n",
            "/usr/local/lib/python3.6/dist-packages/rpy2/rinterface/__init__.py:146: RRuntimeWarning: trying URL 'https://cran.rstudio.com/src/contrib/MASS_7.3-51.4.tar.gz'\n",
            "\n",
            "  warnings.warn(x, RRuntimeWarning)\n",
            "/usr/local/lib/python3.6/dist-packages/rpy2/rinterface/__init__.py:146: RRuntimeWarning:  length 487233 bytes (475 KB)\n",
            "\n",
            "  warnings.warn(x, RRuntimeWarning)\n",
            "/usr/local/lib/python3.6/dist-packages/rpy2/rinterface/__init__.py:146: RRuntimeWarning: downloaded 475 KB\n",
            "\n",
            "\n",
            "  warnings.warn(x, RRuntimeWarning)\n",
            "/usr/local/lib/python3.6/dist-packages/rpy2/rinterface/__init__.py:146: RRuntimeWarning: trying URL 'https://cran.rstudio.com/src/contrib/caret_6.0-84.tar.gz'\n",
            "\n",
            "  warnings.warn(x, RRuntimeWarning)\n",
            "/usr/local/lib/python3.6/dist-packages/rpy2/rinterface/__init__.py:146: RRuntimeWarning:  length 5250927 bytes (5.0 MB)\n",
            "\n",
            "  warnings.warn(x, RRuntimeWarning)\n",
            "/usr/local/lib/python3.6/dist-packages/rpy2/rinterface/__init__.py:146: RRuntimeWarning: downloaded 5.0 MB\n",
            "\n",
            "\n",
            "  warnings.warn(x, RRuntimeWarning)\n",
            "/usr/local/lib/python3.6/dist-packages/rpy2/rinterface/__init__.py:146: RRuntimeWarning: trying URL 'https://cran.rstudio.com/src/contrib/plotly_4.9.1.tar.gz'\n",
            "\n",
            "  warnings.warn(x, RRuntimeWarning)\n",
            "/usr/local/lib/python3.6/dist-packages/rpy2/rinterface/__init__.py:146: RRuntimeWarning:  length 3552408 bytes (3.4 MB)\n",
            "\n",
            "  warnings.warn(x, RRuntimeWarning)\n",
            "/usr/local/lib/python3.6/dist-packages/rpy2/rinterface/__init__.py:146: RRuntimeWarning: downloaded 3.4 MB\n",
            "\n",
            "\n",
            "  warnings.warn(x, RRuntimeWarning)\n",
            "/usr/local/lib/python3.6/dist-packages/rpy2/rinterface/__init__.py:146: RRuntimeWarning: trying URL 'https://cran.rstudio.com/src/contrib/mlbench_2.1-1.tar.gz'\n",
            "\n",
            "  warnings.warn(x, RRuntimeWarning)\n",
            "/usr/local/lib/python3.6/dist-packages/rpy2/rinterface/__init__.py:146: RRuntimeWarning:  length 920768 bytes (899 KB)\n",
            "\n",
            "  warnings.warn(x, RRuntimeWarning)\n",
            "/usr/local/lib/python3.6/dist-packages/rpy2/rinterface/__init__.py:146: RRuntimeWarning: downloaded 899 KB\n",
            "\n",
            "\n",
            "  warnings.warn(x, RRuntimeWarning)\n",
            "/usr/local/lib/python3.6/dist-packages/rpy2/rinterface/__init__.py:146: RRuntimeWarning: trying URL 'https://cran.rstudio.com/src/contrib/e1071_1.7-2.tar.gz'\n",
            "\n",
            "  warnings.warn(x, RRuntimeWarning)\n",
            "/usr/local/lib/python3.6/dist-packages/rpy2/rinterface/__init__.py:146: RRuntimeWarning:  length 583003 bytes (569 KB)\n",
            "\n",
            "  warnings.warn(x, RRuntimeWarning)\n",
            "/usr/local/lib/python3.6/dist-packages/rpy2/rinterface/__init__.py:146: RRuntimeWarning: downloaded 569 KB\n",
            "\n",
            "\n",
            "  warnings.warn(x, RRuntimeWarning)\n",
            "/usr/local/lib/python3.6/dist-packages/rpy2/rinterface/__init__.py:146: RRuntimeWarning: trying URL 'https://cran.rstudio.com/src/contrib/caTools_1.17.1.2.tar.gz'\n",
            "\n",
            "  warnings.warn(x, RRuntimeWarning)\n",
            "/usr/local/lib/python3.6/dist-packages/rpy2/rinterface/__init__.py:146: RRuntimeWarning:  length 63590 bytes (62 KB)\n",
            "\n",
            "  warnings.warn(x, RRuntimeWarning)\n",
            "/usr/local/lib/python3.6/dist-packages/rpy2/rinterface/__init__.py:146: RRuntimeWarning: downloaded 62 KB\n",
            "\n",
            "\n",
            "  warnings.warn(x, RRuntimeWarning)\n",
            "/usr/local/lib/python3.6/dist-packages/rpy2/rinterface/__init__.py:146: RRuntimeWarning: trying URL 'https://cran.rstudio.com/src/contrib/matlib_0.9.2.tar.gz'\n",
            "\n",
            "  warnings.warn(x, RRuntimeWarning)\n",
            "/usr/local/lib/python3.6/dist-packages/rpy2/rinterface/__init__.py:146: RRuntimeWarning:  length 219147 bytes (214 KB)\n",
            "\n",
            "  warnings.warn(x, RRuntimeWarning)\n",
            "/usr/local/lib/python3.6/dist-packages/rpy2/rinterface/__init__.py:146: RRuntimeWarning: downloaded 214 KB\n",
            "\n",
            "\n",
            "  warnings.warn(x, RRuntimeWarning)\n"
          ],
          "name": "stderr"
        }
      ]
    },
    {
      "cell_type": "code",
      "metadata": {
        "id": "YpJcYX2gCnJc",
        "colab_type": "code",
        "colab": {}
      },
      "source": [
        "%%R\n",
        "library(MPDiR)    # Donde estan los datos Chromatic\n",
        "library(dplyr)    # Para manipulación de datos\n",
        "library(ggplot2)  # Para poder gráficar\n",
        "library(lattice)  # Para poder graficar xyplot y condicionados\n",
        "library(readxl)   # Para abrir archivos en excel\n",
        "library(MASS)     # Para hacer regresiones de tipo binomial negativa\n",
        "library(caret)\n",
        "library(caret)    # Permite evaluar los modelos de regresion\n",
        "library(plotly)   # Para hacer gráficos dinámicos\n",
        "library(mlbench)  # Permite obtener los datos de Sonar\n",
        "library(e1071)    # Solucion error caret\n",
        "library(caTools)  # Permite calcular el score AUC de la Curva ROC\n",
        "library(matlib)"
      ],
      "execution_count": 0,
      "outputs": []
    },
    {
      "cell_type": "markdown",
      "metadata": {
        "id": "4WR3N2YEzYus",
        "colab_type": "text"
      },
      "source": [
        "Leemos el dataset con el que se generará el modelo lineal"
      ]
    },
    {
      "cell_type": "code",
      "metadata": {
        "id": "Dn19MPjOCnPE",
        "colab_type": "code",
        "outputId": "8a2119ad-5112-4400-ddee-d0c7c6d33cdb",
        "colab": {
          "base_uri": "https://localhost:8080/",
          "height": 202
        }
      },
      "source": [
        "%%R\n",
        "data<-read.csv('/content/CursoDF/M3/Datos/ventas.csv')\n",
        "str(data)\n",
        "summary(data)"
      ],
      "execution_count": 61,
      "outputs": [
        {
          "output_type": "display_data",
          "data": {
            "text/plain": [
              "'data.frame':\t22 obs. of  3 variables:\n",
              " $ ventas  : int  973 1119 875 625 910 971 931 1177 882 982 ...\n",
              " $ tv      : int  10 10 25 25 30 30 35 35 40 40 ...\n",
              " $ internet: int  40 40 25 25 30 30 35 35 25 25 ...\n",
              "     ventas           tv           internet    \n",
              " Min.   : 625   Min.   :10.00   Min.   :10.00  \n",
              " 1st Qu.: 941   1st Qu.:31.25   1st Qu.:25.00  \n",
              " Median :1148   Median :45.00   Median :30.00  \n",
              " Mean   :1225   Mean   :44.09   Mean   :30.91  \n",
              " 3rd Qu.:1500   3rd Qu.:58.75   3rd Qu.:38.75  \n",
              " Max.   :1866   Max.   :70.00   Max.   :45.00  \n"
            ]
          },
          "metadata": {
            "tags": []
          }
        }
      ]
    },
    {
      "cell_type": "code",
      "metadata": {
        "id": "FdcOvY9mCnYB",
        "colab_type": "code",
        "outputId": "7ed6894a-f041-4cc5-fa99-8f4aea279d8b",
        "colab": {
          "base_uri": "https://localhost:8080/",
          "height": 497
        }
      },
      "source": [
        "%%R\n",
        "plot(data)"
      ],
      "execution_count": 62,
      "outputs": [
        {
          "output_type": "display_data",
          "data": {
            "image/png": "[encoded data removed]"
          },
          "metadata": {
            "tags": []
          }
        }
      ]
    },
    {
      "cell_type": "markdown",
      "metadata": {
        "id": "kSj-GWHH5RcI",
        "colab_type": "text"
      },
      "source": [
        "La prueba de hipótesis es:\n",
        "\n",
        "*   Hipótesis nula: Coeficientes Bi=0\n",
        "*   Hipótesis alternativa: Coeficientes Bi!=0\n",
        "\n",
        "\n",
        "\n"
      ]
    },
    {
      "cell_type": "code",
      "metadata": {
        "id": "w9di1OVcCnbl",
        "colab_type": "code",
        "outputId": "53edaf26-0eeb-48fb-b223-3b07c6a7646e",
        "colab": {
          "base_uri": "https://localhost:8080/",
          "height": 353
        }
      },
      "source": [
        "%%R\n",
        "modelo<-lm(ventas~.,data = data)\n",
        "summary(modelo)"
      ],
      "execution_count": 63,
      "outputs": [
        {
          "output_type": "display_data",
          "data": {
            "text/plain": [
              "\n",
              "Call:\n",
              "lm(formula = ventas ~ ., data = data)\n",
              "\n",
              "Residuals:\n",
              "    Min      1Q  Median      3Q     Max \n",
              "-245.72  -78.50   20.10   66.06  207.80 \n",
              "\n",
              "Coefficients:\n",
              "            Estimate Std. Error t value Pr(>|t|)    \n",
              "(Intercept)  -84.541    111.806  -0.756    0.459    \n",
              "tv            14.857      1.464  10.146 4.16e-09 ***\n",
              "internet      21.179      2.759   7.676 3.08e-07 ***\n",
              "---\n",
              "Signif. codes:  0 ‘***’ 0.001 ‘**’ 0.01 ‘*’ 0.05 ‘.’ 0.1 ‘ ’ 1\n",
              "\n",
              "Residual standard error: 119.6 on 19 degrees of freedom\n",
              "Multiple R-squared:  0.8916,\tAdjusted R-squared:  0.8802 \n",
              "F-statistic: 78.15 on 2 and 19 DF,  p-value: 6.797e-10\n",
              "\n"
            ]
          },
          "metadata": {
            "tags": []
          }
        }
      ]
    },
    {
      "cell_type": "markdown",
      "metadata": {
        "id": "Y1uC3olnBxDa",
        "colab_type": "text"
      },
      "source": [
        "F-statistic es 78.5, significa que nuestro modelo tiene un mejor ajuste que un modelo con coeficientes B=0. Podemos rechazar la hipótesis nula."
      ]
    },
    {
      "cell_type": "code",
      "metadata": {
        "id": "9YtrAHgPCnEs",
        "colab_type": "code",
        "colab": {}
      },
      "source": [
        "%%R\n",
        "e<-data$ventas-modelo$fitted.values"
      ],
      "execution_count": 0,
      "outputs": []
    },
    {
      "cell_type": "code",
      "metadata": {
        "id": "CEb34xNdBQPU",
        "colab_type": "code",
        "outputId": "04da9f7d-20af-4efb-c8bb-180e7e92386b",
        "colab": {
          "base_uri": "https://localhost:8080/",
          "height": 598
        }
      },
      "source": [
        "%%R\n",
        "print(shapiro.test(modelo$residuals))\n",
        "plot(modelo$residuals)"
      ],
      "execution_count": 65,
      "outputs": [
        {
          "output_type": "display_data",
          "data": {
            "text/plain": [
              "\n",
              "\tShapiro-Wilk normality test\n",
              "\n",
              "data:  modelo$residuals\n",
              "W = 0.97491, p-value = 0.8209\n",
              "\n"
            ]
          },
          "metadata": {
            "tags": []
          }
        },
        {
          "output_type": "display_data",
          "data": {
            "image/png": "[encoded data removed]"
          },
          "metadata": {
            "tags": []
          }
        }
      ]
    },
    {
      "cell_type": "markdown",
      "metadata": {
        "id": "KAvUYsS4_q9E",
        "colab_type": "text"
      },
      "source": [
        "De la prueba, el p-value > 0.05 implica que la distribución del error no tiene diferencia significativa con una distribución normal."
      ]
    },
    {
      "cell_type": "markdown",
      "metadata": {
        "id": "CCMcX4gCMAGv",
        "colab_type": "text"
      },
      "source": [
        "## Modelo lineal generalizado"
      ]
    },
    {
      "cell_type": "markdown",
      "metadata": {
        "id": "GrdkBApxT1vY",
        "colab_type": "text"
      },
      "source": [
        "Cuando la estadística decriptiva de los datos Y no sigue una tendencia lineal y la varianza de Y depende de la media se usan los Modelo Lineales Generalizados (**LGM**)\n",
        "\n",
        "Un GLM está compuesto por un predictor lineal \n",
        "$n_i=B_0 + B_1x_1 i+...+B_p x_p i $\n",
        "\n",
        "Y dos funciones:\n",
        "\n",
        "La función liga que describe la dependencia que existe entre la media y el predictor lineal\n",
        "\n",
        " $E[Y_i]=M_i$\n",
        " \n",
        " $g(M_i)=\\eta_i$\n",
        "\n",
        "La funcion de la varianza que describe la relacion entre la varianza sobre la media\n",
        "\n",
        "$Var(y_i)=\\phi V(M) $\n",
        "\n",
        "La mayoria de las distribuciones mas utilizadas son miembros de la familia de distribucion exponencial (Ejemplo: Normal, Binomial o Poisson)\n",
        "\n",
        "Las funciones de la familia exponencial disponibles en R son:\n",
        "\n",
        " - binomial(link = \"logit\")\n",
        "\n",
        " - gaussian(link = \"identity\")\n",
        " \n",
        " - Gamma(link = \"inverse\")\n",
        " \n",
        " - inverse.gaussian(link = \"1/mu2\")\n",
        " \n",
        " - poisson(link = \"log\")\n"
      ]
    },
    {
      "cell_type": "markdown",
      "metadata": {
        "id": "kYv_NWAzaRBb",
        "colab_type": "text"
      },
      "source": [
        "### Metricas importantes de los Modelos de Regresión\n",
        "\n",
        "- Akaike Information Criterion\n",
        "\n",
        "- Deviance\n",
        "\n",
        "- Root Mean Squared Error\n",
        "\n",
        "- Confusion Matrix\n"
      ]
    },
    {
      "cell_type": "markdown",
      "metadata": {
        "id": "9kSlAcBXroDj",
        "colab_type": "text"
      },
      "source": [
        "#### Akaike Information Criterion\n",
        "\n",
        "$AIC = 2k - 2ln(L)$\n",
        "\n",
        "donde:\n",
        "\n",
        "$L=p(x|\\theta,M)$\n",
        "\n",
        "\n",
        "\n",
        "*   $L$ es el valor maximizado de la función de verosimilitud\n",
        "*   $x$ son los valores observados\n",
        "\n",
        "*   $k$ es el número de parámetros del modelo\n",
        "\n",
        "Consideraciones importantes:\n",
        "\n",
        "\n",
        "*   Cuando se evaluan dos modelos con la misma información y las mismas variables respuestas el modelo con **MENOR AIC** es considerado mejor.\n",
        "*   Entre mas complejo sea el modelo (mayor cantidad de parámetros k), mayor sera la posibilidad de que el AIC sea mayor\n",
        "\n",
        "*   El indicador **AIC NO** indica la si la calidad del modelo es buena. Si ambos modelos candidatos se ajustan pobremente, el indicador AIC no generara una alerta de ello\n",
        "\n"
      ]
    },
    {
      "cell_type": "markdown",
      "metadata": {
        "id": "jmVcvXyQtHOY",
        "colab_type": "text"
      },
      "source": [
        "#### Deviance\n",
        "\n",
        "Se utiliza para medir la calidad de ajuste estaditico.\n",
        "\n",
        "$D(y)=−2(log(p(y|θ0))−log(p(y|θs)))$\n",
        "\n",
        "La Devianza Residual mide la diferencia que existe entre el Modelo Saturado y el modelo Propuesto.\n",
        "\n",
        "La Devianza Nula mide la diferencia que existe entre el Modelo Saturado y el modelo Nulo\n",
        "\n",
        "Se considera que un buen modelo es aquel cuya diferencia es CERCANA A CERO tanto para la Devianza Residual como para la Devianza Nula\n",
        "\n",
        "Si la Deviaza en ambos casos es igual a cero se considera que el ajuste es perfecto. Si la Devianza es mayor a cero se dice que existe “Sobre-dispersión”\n",
        "\n",
        "El modelo Saturado asume que cada punto tiene sus propios parametros (lo que significa que tiene n parametros)\n",
        "\n",
        "El modelo Nulo asume exactamente lo contrario, un solo parametro para todos los puntos, por lo que solo se estima un parametro.\n",
        "\n",
        "El modelo Propuesto asume que los puntos son modelados mediante p parametros mas un término de intercepción, por tanto que tiene $p + 1$ parámetros.\n"
      ]
    },
    {
      "cell_type": "markdown",
      "metadata": {
        "id": "C3zuV-RjtnEA",
        "colab_type": "text"
      },
      "source": [
        "#### RMSE (Root Mean Squared Error)\n",
        "\n",
        "$RMSE = \\sqrt{\\frac1n\\sum_{i=1}^n(\\hat{y}-y)^2}$\n",
        "\n",
        "Donde:\n",
        "\n",
        "$\\hat{y}$ es la variable predecida\n",
        "\n",
        "$y$ es la variable real\n",
        "\n",
        "Tener un $RMSE = 0 $ es ideal pero no es posible en la mayoría de las situaciones. Un $RMSE = 0$ significa que el estimador predice las observaciones con una precisión perfecta.\n",
        "La validación cruzada corresponde a repetir n veces el calculo del $RMSE$ al separar de manera aleatoria n veces los datos en train y test."
      ]
    },
    {
      "cell_type": "markdown",
      "metadata": {
        "id": "s2KQ6ee4yAF2",
        "colab_type": "text"
      },
      "source": [
        "#### Matriz de confusión\n",
        "\n",
        "La matriz de confusión es una herramienta que permite la visualización del desempeño de un algoritmo que se emplea en aprendizaje supervisado. Cada columna de la matriz representa el número de predicciones de cada clase, mientras que cada fila representa a las instancias en la clase real. Uno de los beneficios de las matrices de confusión es que facilitan ver si el sistema está confundiendo dos clases.\n",
        "\n",
        "Indicadores:\n",
        "\n",
        "Accuracy: Que tan seguido la clasificación es correcta.\n",
        "\n",
        "$\\frac{TP+TN}{Total}$\n",
        "\n",
        "True Positive Rate: Que tan seguido la predicción es Positiva\n",
        "\n",
        "$\\frac{TP}{TotalP}$\n",
        "\n",
        "False Positive Rate: Que tan seguido la predicción es Negativa\n",
        "\n",
        "$\\frac{FP}{TotalF}$\n",
        "\n",
        "Specificity: Que tan seguido la clasificación y la predicción es Negativa\n",
        "\n",
        "$1−\\frac{FP}{TotalF}$\n",
        "\n",
        "Null Error Rate: Que tan seguido la clasificación es incorrecta\n",
        "\n",
        "$\\frac{TN+FP}{Total}$\n",
        "\n",
        "$\\kappa$: Mide la diferencia entre Accuracy y Null Error Rate. entre mas grande esta métrica, mayor la diferencia\n",
        "\n",
        "Ejemplo de *Matriz de Confuisión*\n",
        "\n",
        "\n",
        "![image.png](data:image/png;base64,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)"
      ]
    },
    {
      "cell_type": "markdown",
      "metadata": {
        "id": "OMMqo4W41L1G",
        "colab_type": "text"
      },
      "source": [
        "#### CURVA ROC\n",
        "El análisis de la curva ROC, proporciona herramientas para seleccionar los modelos posiblemente óptimos y descartar modelos subóptimos.\n",
        "\n",
        "Para dibujar una curva ROC sólo son necesarias las razones de True Positive Rate (TP) y de False Positive Rate (FP).\n",
        "\n",
        "El mejor método posible de predicción se situaría en un punto en la esquina superior izquierda, o coordenada (0,1) del espacio ROC, representando un 100% de sensibilidad (ningún falso negativo) y un 100% también de especificidad (ningún falso positivo). A este punto (0,1) también se le llama una clasificación perfecta."
      ]
    },
    {
      "cell_type": "markdown",
      "metadata": {
        "id": "bNGYweIt1h0b",
        "colab_type": "text"
      },
      "source": [
        "Los siguientes datos obtenidos en Zuur, Ieno y Hilbe [Zuur AF, Hilbe JM and Ieno EN, Beginner’s Guide to GLM and GLMM with R (2013). Springer Science Business Media New York 2007] mide la abundancia de peces a distintas profundidades, en dos periodos temporales (1979-1989 vs 1997-2002) en Atlántico noroeste. Durante el segundo periodo se desarrollo mucho la actividad pesquera comercial, que se sospecha tuvo impacto en las comunidades oceanicas. Examinaremos si la relación entre la riqueza y la profundidad ha cambiado de la base Baileyetal2008.xls\n",
        "\n",
        "Son 148 registros en donde se indica la abundancia de peces (# de peces), la densidad, la profundidad promedio, el año, el periodo a que corresponde, las coordenadas X y Y en Km y el área de captura"
      ]
    },
    {
      "cell_type": "code",
      "metadata": {
        "id": "Fmsrdn46rYa7",
        "colab_type": "code",
        "colab": {}
      },
      "source": [
        "%%R\n",
        "# La opción na.action nos permite indicar que debe hacer el modelo ante variables Nulas.\n",
        "# Por defalut tiene na.fail el cual dará un error en el modelo,\n",
        "# Se puede cambiar a na.omit si se desean omitir los valores *Nulos*\n",
        "\n",
        "# La opción data permite incluir la base con las columnas que deseamos utilizar para hacer el modelo.\n",
        "\n",
        "#  residuals()     Muestra los residuales\n",
        "#  fitted()        Muestra la predicción despues de aplicar la inversa de la función liga  \n",
        "#  predict()       Muestra la predicción antes de aplicar la inversa de la función liga\n",
        "#  Tambien es utilizado para predecir la variable respuesta (response) en nuevos datos\n",
        "\n",
        "#  coefficients()  Muestra los coeficientes\n",
        " \n",
        "#  deviance()      Muestra la devianza  \n",
        " \n",
        "#  formula()       Muestra la formula   \n",
        " \n",
        "#  summary()       Muestra el resumen"
      ],
      "execution_count": 0,
      "outputs": []
    },
    {
      "cell_type": "code",
      "metadata": {
        "id": "oQoPtegLrgSv",
        "colab_type": "code",
        "colab": {}
      },
      "source": [
        "%%R\n"
      ],
      "execution_count": 0,
      "outputs": []
    },
    {
      "cell_type": "code",
      "metadata": {
        "id": "-257ytBtrgO6",
        "colab_type": "code",
        "colab": {}
      },
      "source": [
        ""
      ],
      "execution_count": 0,
      "outputs": []
    },
    {
      "cell_type": "code",
      "metadata": {
        "id": "2Lo8slc2rgJB",
        "colab_type": "code",
        "colab": {}
      },
      "source": [
        ""
      ],
      "execution_count": 0,
      "outputs": []
    },
    {
      "cell_type": "code",
      "metadata": {
        "id": "IREaiVuHrgGm",
        "colab_type": "code",
        "colab": {}
      },
      "source": [
        ""
      ],
      "execution_count": 0,
      "outputs": []
    },
    {
      "cell_type": "code",
      "metadata": {
        "id": "CnpHuVnrrgDi",
        "colab_type": "code",
        "colab": {}
      },
      "source": [
        ""
      ],
      "execution_count": 0,
      "outputs": []
    },
    {
      "cell_type": "code",
      "metadata": {
        "id": "bbgv8NxOrgBl",
        "colab_type": "code",
        "colab": {}
      },
      "source": [
        ""
      ],
      "execution_count": 0,
      "outputs": []
    },
    {
      "cell_type": "code",
      "metadata": {
        "id": "i1BRGG4drf9u",
        "colab_type": "code",
        "colab": {}
      },
      "source": [
        ""
      ],
      "execution_count": 0,
      "outputs": []
    },
    {
      "cell_type": "code",
      "metadata": {
        "id": "DJHYgomw0PAA",
        "colab_type": "code",
        "outputId": "030ec212-b37d-446d-8783-23bab93ea42f",
        "colab": {
          "base_uri": "https://localhost:8080/",
          "height": 252
        }
      },
      "source": [
        "%%R\n",
        "data(Chromatic)           # Bajamos los datos\n",
        "cromatico <- Chromatic    # Guardamos los datos\n",
        "\n",
        "print(head(cromatico))\n",
        "colnames(cromatico) <- c(\"Log2Edad\",\"Edad\",\"Deterioro\",\"Anomalia\") \n",
        "summary(cromatico)  "
      ],
      "execution_count": 52,
      "outputs": [
        {
          "output_type": "display_data",
          "data": {
            "text/plain": [
              "   Log2Age  Age  Thresh   Axis\n",
              "1 -2.00000 0.25 0.01861 Protan\n",
              "2 -1.78588 0.29 0.03024 Protan\n",
              "3 -1.78588 0.29 0.02700 Protan\n",
              "4 -1.59946 0.33 0.01542 Protan\n",
              "5 -1.59946 0.33 0.01585 Protan\n",
              "6 -1.59946 0.33 0.03132 Protan\n",
              "    Log2Edad           Edad          Deterioro          Anomalia  \n",
              " Min.   :-2.000   Min.   : 0.250   Min.   :0.000410   Deutan:172  \n",
              " 1st Qu.:-0.415   1st Qu.: 0.750   1st Qu.:0.001783   Protan:172  \n",
              " Median : 0.000   Median : 1.000   Median :0.006547   Tritan:167  \n",
              " Mean   : 1.390   Mean   : 9.961   Mean   :0.008392               \n",
              " 3rd Qu.: 3.170   3rd Qu.: 9.000   3rd Qu.:0.010890               \n",
              " Max.   : 6.426   Max.   :86.000   Max.   :0.059400               \n"
            ]
          },
          "metadata": {
            "tags": []
          }
        }
      ]
    },
    {
      "cell_type": "code",
      "metadata": {
        "id": "XPAtT3TC0PCt",
        "colab_type": "code",
        "outputId": "15bd6f3a-29c5-4bc1-8d65-dbb0d7f11992",
        "colab": {
          "base_uri": "https://localhost:8080/",
          "height": 1000
        }
      },
      "source": [
        "%%R\n",
        "Cromatico_P<-cromatico%>%filter(Anomalia == \"Protan\") # Protanopía\n",
        "print(Cromatico_P)\n",
        "summary(Cromatico_P)"
      ],
      "execution_count": 55,
      "outputs": [
        {
          "output_type": "display_data",
          "data": {
            "text/plain": [
              "    Log2Edad  Edad Deterioro Anomalia\n",
              "1   -2.00000  0.25  0.018610   Protan\n",
              "2   -1.78588  0.29  0.030240   Protan\n",
              "3   -1.78588  0.29  0.027000   Protan\n",
              "4   -1.59946  0.33  0.015420   Protan\n",
              "5   -1.59946  0.33  0.015850   Protan\n",
              "6   -1.59946  0.33  0.031320   Protan\n",
              "7   -1.39593  0.38  0.010890   Protan\n",
              "8   -1.39593  0.38  0.020520   Protan\n",
              "9   -1.25154  0.42  0.010890   Protan\n",
              "10  -1.25154  0.42  0.019440   Protan\n",
              "11  -1.00000  0.50  0.008764   Protan\n",
              "12  -1.00000  0.50  0.008476   Protan\n",
              "13  -0.88897  0.54  0.019350   Protan\n",
              "14  -0.88897  0.54  0.020850   Protan\n",
              "15  -0.78588  0.58  0.019590   Protan\n",
              "16  -0.78588  0.58  0.004448   Protan\n",
              "17  -0.78588  0.58  0.010890   Protan\n",
              "18  -0.66658  0.63  0.014690   Protan\n",
              "19  -0.66658  0.63  0.008856   Protan\n",
              "20  -0.66658  0.63  0.011700   Protan\n",
              "21  -0.66658  0.63  0.020520   Protan\n",
              "22  -0.66658  0.63  0.024410   Protan\n",
              "23  -0.57777  0.67  0.006943   Protan\n",
              "24  -0.57777  0.67  0.010890   Protan\n",
              "25  -0.57777  0.67  0.021610   Protan\n",
              "26  -0.57777  0.67  0.006547   Protan\n",
              "27  -0.57777  0.67  0.010890   Protan\n",
              "28  -0.57777  0.67  0.014590   Protan\n",
              "29  -0.57777  0.67  0.026970   Protan\n",
              "30  -0.57777  0.67  0.016920   Protan\n",
              "31  -0.57777  0.67  0.007387   Protan\n",
              "32  -0.57777  0.67  0.007387   Protan\n",
              "33  -0.57777  0.67  0.018190   Protan\n",
              "34  -0.57777  0.67  0.015850   Protan\n",
              "35  -0.57777  0.67  0.009288   Protan\n",
              "36  -0.57777  0.67  0.014690   Protan\n",
              "37  -0.57777  0.67  0.008755   Protan\n",
              "38  -0.57777  0.67  0.010890   Protan\n",
              "39  -0.57777  0.67  0.014690   Protan\n",
              "40  -0.57777  0.67  0.012360   Protan\n",
              "41  -0.57777  0.67  0.009183   Protan\n",
              "42  -0.41504  0.75  0.010890   Protan\n",
              "43  -0.41504  0.75  0.007807   Protan\n",
              "44  -0.41504  0.75  0.005708   Protan\n",
              "45  -0.41504  0.75  0.002659   Protan\n",
              "46  -0.41504  0.75  0.006295   Protan\n",
              "47  -0.41504  0.75  0.006547   Protan\n",
              "48  -0.41504  0.75  0.014530   Protan\n",
              "49  -0.41504  0.75  0.010890   Protan\n",
              "50  -0.41504  0.75  0.007387   Protan\n",
              "51  -0.41504  0.75  0.010890   Protan\n",
              "52  -0.41504  0.75  0.010890   Protan\n",
              "53  -0.41504  0.75  0.010190   Protan\n",
              "54  -0.41504  0.75  0.007051   Protan\n",
              "55  -0.41504  0.75  0.008775   Protan\n",
              "56  -0.41504  0.75  0.020620   Protan\n",
              "57  -0.41504  0.75  0.014690   Protan\n",
              "58  -0.41504  0.75  0.022080   Protan\n",
              "59  -0.41504  0.75  0.016090   Protan\n",
              "60  -0.41504  0.75  0.006998   Protan\n",
              "61  -0.41504  0.75  0.021000   Protan\n",
              "62  -0.34008  0.79  0.010800   Protan\n",
              "63  -0.34008  0.79  0.009288   Protan\n",
              "64  -0.34008  0.79  0.014770   Protan\n",
              "65  -0.26882  0.83  0.014390   Protan\n",
              "66  -0.26882  0.83  0.014690   Protan\n",
              "67  -0.26882  0.83  0.006547   Protan\n",
              "68  -0.26882  0.83  0.007645   Protan\n",
              "69  -0.26882  0.83  0.015230   Protan\n",
              "70  -0.26882  0.83  0.007776   Protan\n",
              "71  -0.26882  0.83  0.027660   Protan\n",
              "72  -0.26882  0.83  0.009067   Protan\n",
              "73  -0.26882  0.83  0.013180   Protan\n",
              "74  -0.18442  0.88  0.004856   Protan\n",
              "75  -0.18442  0.88  0.010440   Protan\n",
              "76  -0.12029  0.92  0.020520   Protan\n",
              "77  -0.12029  0.92  0.007387   Protan\n",
              "78  -0.12029  0.92  0.005288   Protan\n",
              "79  -0.12029  0.92  0.007387   Protan\n",
              "80  -0.12029  0.92  0.010890   Protan\n",
              "81  -0.12029  0.92  0.006547   Protan\n",
              "82  -0.12029  0.92  0.020850   Protan\n",
              "83  -0.05889  0.96  0.018580   Protan\n",
              "84   0.00000  1.00  0.006057   Protan\n",
              "85   0.00000  1.00  0.005288   Protan\n",
              "86   0.00000  1.00  0.007387   Protan\n",
              "87   0.00000  1.00  0.010890   Protan\n",
              "88   0.00000  1.00  0.006091   Protan\n",
              "89   0.11103  1.08  0.007387   Protan\n",
              "90   0.11103  1.08  0.007456   Protan\n",
              "91   0.11103  1.08  0.007888   Protan\n",
              "92   0.22651  1.17  0.004448   Protan\n",
              "93   0.22651  1.17  0.006547   Protan\n",
              "94   0.41143  1.33  0.007835   Protan\n",
              "95   0.50589  1.42  0.007387   Protan\n",
              "96   0.50589  1.42  0.002756   Protan\n",
              "97   0.73985  1.67  0.006143   Protan\n",
              "98   1.00000  2.00  0.010890   Protan\n",
              "99   1.00000  2.00  0.003151   Protan\n",
              "100  1.32193  2.50  0.004649   Protan\n",
              "101  1.32193  2.50  0.003692   Protan\n",
              "102  1.54449  2.92  0.002046   Protan\n",
              "103  1.58496  3.00  0.001411   Protan\n",
              "104  1.58496  3.00  0.002861   Protan\n",
              "105  1.58496  3.00  0.001904   Protan\n",
              "106  1.58496  3.00  0.003023   Protan\n",
              "107  2.00000  4.00  0.001904   Protan\n",
              "108  2.00000  4.00  0.003617   Protan\n",
              "109  2.00000  4.00  0.003828   Protan\n",
              "110  2.16992  4.50  0.000957   Protan\n",
              "111  2.16992  4.50  0.002901   Protan\n",
              "112  2.16992  4.50  0.001007   Protan\n",
              "113  2.32193  5.00  0.002348   Protan\n",
              "114  2.32193  5.00  0.001904   Protan\n",
              "115  2.32193  5.00  0.000957   Protan\n",
              "116  2.32193  5.00  0.003499   Protan\n",
              "117  2.58496  6.00  0.000848   Protan\n",
              "118  2.70044  6.50  0.001904   Protan\n",
              "119  2.80735  7.00  0.000845   Protan\n",
              "120  2.80735  7.00  0.002357   Protan\n",
              "121  2.90689  7.50  0.001904   Protan\n",
              "122  3.00000  8.00  0.000957   Protan\n",
              "123  3.00000  8.00  0.001414   Protan\n",
              "124  3.00000  8.00  0.000932   Protan\n",
              "125  3.00000  8.00  0.001866   Protan\n",
              "126  3.00000  8.00  0.001349   Protan\n",
              "127  3.00000  8.00  0.001520   Protan\n",
              "128  3.08746  8.50  0.001352   Protan\n",
              "129  3.08746  8.50  0.001783   Protan\n",
              "130  3.16992  9.00  0.001686   Protan\n",
              "131  3.32193 10.00  0.001647   Protan\n",
              "132  3.45943 11.00  0.001601   Protan\n",
              "133  3.58496 12.00  0.000522   Protan\n",
              "134  3.58496 12.00  0.001204   Protan\n",
              "135  3.70044 13.00  0.000751   Protan\n",
              "136  3.90689 15.00  0.000576   Protan\n",
              "137  4.08746 17.00  0.000689   Protan\n",
              "138  4.39232 21.00  0.000731   Protan\n",
              "139  4.39232 21.00  0.001139   Protan\n",
              "140  4.45943 22.00  0.000845   Protan\n",
              "141  4.52356 23.00  0.001148   Protan\n",
              "142  4.52356 23.00  0.001127   Protan\n",
              "143  4.64386 25.00  0.001057   Protan\n",
              "144  4.70044 26.00  0.000655   Protan\n",
              "145  4.70044 26.00  0.000617   Protan\n",
              "146  4.70044 26.00  0.001673   Protan\n",
              "147  4.70044 26.00  0.001601   Protan\n",
              "148  4.70044 26.00  0.001159   Protan\n",
              "149  4.75489 27.00  0.001008   Protan\n",
              "150  4.80735 28.00  0.001027   Protan\n",
              "151  4.90689 30.00  0.000834   Protan\n",
              "152  4.90689 30.00  0.000948   Protan\n",
              "153  4.95420 31.00  0.001806   Protan\n",
              "154  5.00000 32.00  0.001777   Protan\n",
              "155  5.08746 34.00  0.000907   Protan\n",
              "156  5.12928 35.00  0.001317   Protan\n",
              "157  5.12928 35.00  0.000929   Protan\n",
              "158  5.16993 36.00  0.000508   Protan\n",
              "159  5.16993 36.00  0.001012   Protan\n",
              "160  5.20945 37.00  0.001260   Protan\n",
              "161  5.28540 39.00  0.000914   Protan\n",
              "162  5.35755 41.00  0.000907   Protan\n",
              "163  5.49185 45.00  0.001095   Protan\n",
              "164  5.64386 50.00  0.001324   Protan\n",
              "165  5.64386 50.00  0.001411   Protan\n",
              "166  5.67243 51.00  0.000685   Protan\n",
              "167  5.88264 59.00  0.001161   Protan\n",
              "168  5.97728 63.00  0.001299   Protan\n",
              "169  6.04439 66.00  0.002031   Protan\n",
              "170  6.22882 75.00  0.001732   Protan\n",
              "171  6.24793 76.00  0.001139   Protan\n",
              "172  6.42626 86.00  0.003064   Protan\n",
              "    Log2Edad           Edad          Deterioro          Anomalia  \n",
              " Min.   :-2.000   Min.   : 0.250   Min.   :0.000508   Deutan:  0  \n",
              " 1st Qu.:-0.415   1st Qu.: 0.750   1st Qu.:0.001413   Protan:172  \n",
              " Median : 0.000   Median : 1.000   Median :0.006421   Tritan:  0  \n",
              " Mean   : 1.369   Mean   : 9.872   Mean   :0.007687               \n",
              " 3rd Qu.: 3.108   3rd Qu.: 8.625   3rd Qu.:0.010890               \n",
              " Max.   : 6.426   Max.   :86.000   Max.   :0.031320               \n"
            ]
          },
          "metadata": {
            "tags": []
          }
        }
      ]
    },
    {
      "cell_type": "code",
      "metadata": {
        "id": "DaxDADbp0PFf",
        "colab_type": "code",
        "colab": {
          "base_uri": "https://localhost:8080/",
          "height": 497
        },
        "outputId": "1a92ef62-391e-4409-8aee-6794e58bc759"
      },
      "source": [
        "%%R\n",
        "xyplot(Deterioro ~ Edad | Anomalia, data = Cromatico_P,xlab = \"Edad\", ylab = \"Umbral de Anomalía\")"
      ],
      "execution_count": 56,
      "outputs": [
        {
          "output_type": "display_data",
          "data": {
            "image/png": "[encoded data removed]"
          },
          "metadata": {
            "tags": []
          }
        }
      ]
    },
    {
      "cell_type": "code",
      "metadata": {
        "id": "W2R8u-Q20PII",
        "colab_type": "code",
        "outputId": "6f1a13b7-0738-45e8-d842-f3cdf043b06e",
        "colab": {
          "base_uri": "https://localhost:8080/",
          "height": 34
        }
      },
      "source": [
        "%%R\n"
      ],
      "execution_count": 0,
      "outputs": [
        {
          "output_type": "display_data",
          "data": {
            "text/plain": [
              "[1] \"complex\"\n"
            ]
          },
          "metadata": {
            "tags": []
          }
        }
      ]
    },
    {
      "cell_type": "markdown",
      "metadata": {
        "id": "Max5gkbc5_LO",
        "colab_type": "text"
      },
      "source": [
        "## Creación de vectores y matrices"
      ]
    },
    {
      "cell_type": "markdown",
      "metadata": {
        "id": "w1MHARMO6Gu1",
        "colab_type": "text"
      },
      "source": [
        "Función c() para crear vectores\n",
        "Esta función crea vectores a partir de elementos individuales, esto quiere decir, que el usuario intruduce dichos valores. No importa que los vectores guarden la misma información, cada uno de ellos se diferencia por el nombre de asignación. Esta función concatene varios elementos del mismo tipo, cuando se imprime el vector se hace en un renglón que comienza con el símbolo ‘[1]’, indicando con ello que el primer elemento del renglón corresponde al primer elemento del vector."
      ]
    },
    {
      "cell_type": "code",
      "metadata": {
        "id": "5bswyh6-0PP6",
        "colab_type": "code",
        "outputId": "0610bd73-48ab-4b66-a56e-aa54d9fa21fb",
        "colab": {
          "base_uri": "https://localhost:8080/",
          "height": 101
        }
      },
      "source": [
        "%%R\n"
      ],
      "execution_count": 0,
      "outputs": [
        {
          "output_type": "display_data",
          "data": {
            "text/plain": [
              "[1]  5 10 15 20\n",
              "[1] \"numeric\"\n",
              "[1]  4  8 12 16\n",
              "[1]  5 10 15 20\n",
              "[1] \"numeric\"\n"
            ]
          },
          "metadata": {
            "tags": []
          }
        }
      ]
    },
    {
      "cell_type": "markdown",
      "metadata": {
        "id": "rCmqpxas7Flj",
        "colab_type": "text"
      },
      "source": [
        "Ejercicio. Construir un objeto a que contenga los elementos 2 y 4. \n",
        "\n",
        "1.   Construir un objeto a que contenga los elementos 2 y 4. También hacerlo para b, pero en ese caso que contenga del 2 al 4.\n",
        "2.   Crear un vector que contenga una secuencia de 5 en 5, partiendo del número 5 al 35 y otra de 3 en 3, partiendo del 7 hasta el 80 (utilice la función seq)."
      ]
    },
    {
      "cell_type": "code",
      "metadata": {
        "id": "pwofeLab0PTC",
        "colab_type": "code",
        "colab": {}
      },
      "source": [
        ""
      ],
      "execution_count": 0,
      "outputs": []
    },
    {
      "cell_type": "code",
      "metadata": {
        "id": "4pxs91my0PXn",
        "colab_type": "code",
        "colab": {}
      },
      "source": [
        ""
      ],
      "execution_count": 0,
      "outputs": []
    },
    {
      "cell_type": "markdown",
      "metadata": {
        "id": "zfgz-UkZ9Cpv",
        "colab_type": "text"
      },
      "source": [
        "Matrices. Las matrices también se pueden crear de manera flexible con función *matrix*, la cual permite alterar la secuencia por default de armado de la matriz; esto es, poder armar la matriz por filas y no por columnas."
      ]
    },
    {
      "cell_type": "code",
      "metadata": {
        "id": "EEfysOwc0Pak",
        "colab_type": "code",
        "colab": {}
      },
      "source": [
        "%%R\n"
      ],
      "execution_count": 0,
      "outputs": []
    },
    {
      "cell_type": "code",
      "metadata": {
        "id": "rsZ1375M0PV_",
        "colab_type": "code",
        "outputId": "114557fa-a1f3-4cb4-fd13-9effc8be7fd9",
        "colab": {
          "base_uri": "https://localhost:8080/",
          "height": 118
        }
      },
      "source": [
        "%%R\n",
        "print(mat2)"
      ],
      "execution_count": 0,
      "outputs": [
        {
          "output_type": "display_data",
          "data": {
            "text/plain": [
              "     [,1] [,2] [,3] [,4]\n",
              "[1,]   21   22   23   24\n",
              "[2,]   25   26   27   28\n",
              "[3,]   29   30   31   32\n",
              "[4,]   33   34   35   36\n",
              "[5,]   37   38   39   40\n"
            ]
          },
          "metadata": {
            "tags": []
          }
        }
      ]
    },
    {
      "cell_type": "code",
      "metadata": {
        "id": "KmeY-fvs0PNJ",
        "colab_type": "code",
        "colab": {}
      },
      "source": [
        "%%R\n"
      ],
      "execution_count": 0,
      "outputs": []
    },
    {
      "cell_type": "code",
      "metadata": {
        "id": "DTqRLE2yIZxy",
        "colab_type": "code",
        "outputId": "e8f7a26e-0928-484b-b8ac-4703087b8503",
        "colab": {
          "base_uri": "https://localhost:8080/",
          "height": 118
        }
      },
      "source": [
        "%%R\n",
        "mat2"
      ],
      "execution_count": 0,
      "outputs": [
        {
          "output_type": "display_data",
          "data": {
            "text/plain": [
              "                  Tipo A Tipo B Tipo C Tipo D\n",
              "ID Alumno             21     22     23     24\n",
              "ID Profesor           25     26     27     28\n",
              "ID Administrativo     29     30     31     32\n",
              "ID Investigador       33     34     35     36\n",
              "ID Interino           37     38     39     40\n"
            ]
          },
          "metadata": {
            "tags": []
          }
        }
      ]
    },
    {
      "cell_type": "markdown",
      "metadata": {
        "id": "BAQZtHyPJqsG",
        "colab_type": "text"
      },
      "source": [
        "Ejercicio.\n",
        "\n",
        "1.   Crear una matriz que muestre las ganancias en millones de dólares dentro y fuera de E.U.A, de las siguientes películas: Episodio IV (E.U.A=460, O.P=314), Episodio V (E.U.A=290, O.P=247) y Episodio VI (E.U.A=309, O.P=165)\n",
        "2.   Asignar nombre a filas y columnas a la matriz star_wars_matriz\n",
        "\n"
      ]
    },
    {
      "cell_type": "markdown",
      "metadata": {
        "id": "no6Xh8CkKDja",
        "colab_type": "text"
      },
      "source": [
        "Funciones rbind() y cbind()\n"
      ]
    },
    {
      "cell_type": "code",
      "metadata": {
        "id": "iVnsrLEBIZ2J",
        "colab_type": "code",
        "outputId": "89fd119e-0cac-4abc-a6bd-b4d66a82c90a",
        "colab": {
          "base_uri": "https://localhost:8080/",
          "height": 151
        }
      },
      "source": [
        "%%R\n"
      ],
      "execution_count": 0,
      "outputs": [
        {
          "output_type": "display_data",
          "data": {
            "text/plain": [
              "     [,1] [,2] [,3]\n",
              "[1,]  1.5  2.7 -3.9\n",
              "[2,]  1.4 -1.1  2.1\n",
              "     [,1] [,2] [,3]\n",
              "[1,]    2  1.0    5\n",
              "[2,]    4  0.5    8\n",
              "[3,]    6  1.0    0\n",
              "[4,]    8  0.3    1\n"
            ]
          },
          "metadata": {
            "tags": []
          }
        }
      ]
    },
    {
      "cell_type": "markdown",
      "metadata": {
        "id": "ofweL4CoK4nm",
        "colab_type": "text"
      },
      "source": [
        "Listas\n",
        "Una lista en R permite reunir una variedad de objetos bajo un nombre (es decir, el nombre de la lista) de una manera ordenada. Estos objetos pueden ser matrices, vectores, marcos de datos, incluso otras listas, etc. No se requiere que estos objetos estén relacionados entre sí de ninguna manera.\n",
        "\n",
        "Una lista, de la clase list(), es una clase de datos que puede contener cero o más elementos, cada uno de los cuales puede ser de una clase distinta.\n",
        "\n",
        "Por ejemplo, se puede concebir una lista para representar una familia: mamá, papá, años de casados, hijos, y edad de los hijos. Esto quiere decir, que dicha lista tiene información alfanumérica."
      ]
    },
    {
      "cell_type": "code",
      "metadata": {
        "id": "b0-1yb6NIZ61",
        "colab_type": "code",
        "outputId": "d9178cd3-1ccd-4479-8c0c-4a438e8196c2",
        "colab": {
          "base_uri": "https://localhost:8080/",
          "height": 521
        }
      },
      "source": [
        "%%R\n"
      ],
      "execution_count": 0,
      "outputs": [
        {
          "output_type": "display_data",
          "data": {
            "text/plain": [
              "[[1]]\n",
              "[1] \"Gabriela\"\n",
              "\n",
              "[[2]]\n",
              "[1] \"Mauricio\"\n",
              "\n",
              "[[3]]\n",
              "[1] 25\n",
              "\n",
              "[[4]]\n",
              "[1] \"Alain\"    \"Priscila\"\n",
              "\n",
              "[[5]]\n",
              "[1] 18 15\n",
              "\n",
              "$Madre\n",
              "[1] \"Gabriela\"\n",
              "\n",
              "$Padre\n",
              "[1] \"Mauricio\"\n",
              "\n",
              "$casados\n",
              "[1] 25\n",
              "\n",
              "$Hijos\n",
              "[1] \"Alain\"    \"Priscila\"\n",
              "\n",
              "$Edades\n",
              "[1] 18 15\n",
              "\n"
            ]
          },
          "metadata": {
            "tags": []
          }
        }
      ]
    },
    {
      "cell_type": "markdown",
      "metadata": {
        "id": "TFVRsXLyRfmM",
        "colab_type": "text"
      },
      "source": [
        "# Dataframes\n"
      ]
    },
    {
      "cell_type": "markdown",
      "metadata": {
        "id": "dVCwrGBFRimi",
        "colab_type": "text"
      },
      "source": [
        "Es un tipo de variable cuyos componentes pueden ser vectores, matrices o factores, con la única excepción de que las longitudes, o número de renglones, en el caso de matrices, deben coincidir con todos los componentes. La apariencia de un data frame es de una tabla, una forma de crearlos es mediante la función data.frame()"
      ]
    },
    {
      "cell_type": "code",
      "metadata": {
        "id": "5IJ7bE9oIZ-O",
        "colab_type": "code",
        "outputId": "9179f9b3-c196-4f09-8bce-269fba8084d2",
        "colab": {
          "base_uri": "https://localhost:8080/",
          "height": 118
        }
      },
      "source": [
        "%%R\n"
      ],
      "execution_count": 0,
      "outputs": [
        {
          "output_type": "display_data",
          "data": {
            "text/plain": [
              "    Nombre Edad Delegacion Sexo Casado\n",
              "1  Alondra   37 Xochimilco    M  FALSE\n",
              "2 Berenice   34  Iztacalco    M   TRUE\n",
              "3    Jorge   40 Iztapalapa    H   TRUE\n",
              "4   Melina   25    Tlalpan    M  FALSE\n",
              "5  Eleazar   29   Coyoacan    H   TRUE\n"
            ]
          },
          "metadata": {
            "tags": []
          }
        }
      ]
    },
    {
      "cell_type": "code",
      "metadata": {
        "id": "bqbqVniYIaCT",
        "colab_type": "code",
        "outputId": "462c4799-9f8f-41d4-f3d2-b05098cbc52d",
        "colab": {
          "base_uri": "https://localhost:8080/",
          "height": 34
        }
      },
      "source": [
        "%%R\n"
      ],
      "execution_count": 0,
      "outputs": [
        {
          "output_type": "display_data",
          "data": {
            "text/plain": [
              "NULL\n"
            ]
          },
          "metadata": {
            "tags": []
          }
        }
      ]
    },
    {
      "cell_type": "code",
      "metadata": {
        "id": "sR6N6RsoTtTV",
        "colab_type": "code",
        "colab": {}
      },
      "source": [
        ""
      ],
      "execution_count": 0,
      "outputs": []
    },
    {
      "cell_type": "markdown",
      "metadata": {
        "id": "Zqrr_QUgToRc",
        "colab_type": "text"
      },
      "source": [
        "# Estructuras de control y manejo de datos\n"
      ]
    },
    {
      "cell_type": "markdown",
      "metadata": {
        "id": "tL4GlVH0T94E",
        "colab_type": "text"
      },
      "source": [
        "En R son semejantes a la de otros lenguajes de programación, la construcción en sí misma regresa un valor, que puede, si se quiere, ser asignado a una variable o utilizado de otras maneras.\n",
        "\n",
        "La construcción de un IF admite una sola expresión, pero esta puede ser compuesta, la cual se construye con llaves { }, y las expresiones en su interior, separadas ya sea por el cambio de renglón o por ‘;’."
      ]
    },
    {
      "cell_type": "code",
      "metadata": {
        "id": "InA-ro23IaGg",
        "colab_type": "code",
        "colab": {}
      },
      "source": [
        "%%R\n"
      ],
      "execution_count": 0,
      "outputs": []
    },
    {
      "cell_type": "code",
      "metadata": {
        "id": "XF2h2J9iIaKU",
        "colab_type": "code",
        "outputId": "99b16e4b-b073-43a2-cd49-f1c87df9dbed",
        "colab": {
          "base_uri": "https://localhost:8080/",
          "height": 67
        }
      },
      "source": [
        "%%R\n",
        "# Función que determina si un entero es mayor que 8\n"
      ],
      "execution_count": 0,
      "outputs": [
        {
          "output_type": "display_data",
          "data": {
            "text/plain": [
              "[1] \"x es menor que 8\"\n",
              "[1] \"x es mayor o igual que 8\"\n",
              "[1] \"x es mayor o igual que 8\"\n"
            ]
          },
          "metadata": {
            "tags": []
          }
        }
      ]
    },
    {
      "cell_type": "markdown",
      "metadata": {
        "id": "arHdaswjU5DC",
        "colab_type": "text"
      },
      "source": [
        "Crear un IF donde se muestre que cualquier número entero menor a 10 tiene un rango bajo, mayor a 10 pero menor a 20 pertenece a un rango medio, y si es mayor a 20 entonces tendrá un rango alto."
      ]
    },
    {
      "cell_type": "code",
      "metadata": {
        "id": "wkhv5lqcIaNo",
        "colab_type": "code",
        "colab": {}
      },
      "source": [
        "%%R\n"
      ],
      "execution_count": 0,
      "outputs": []
    },
    {
      "cell_type": "code",
      "metadata": {
        "id": "XTV6u4wDVtBm",
        "colab_type": "code",
        "outputId": "43a0945b-0df6-49ec-eb07-801bd47e4fa0",
        "colab": {
          "base_uri": "https://localhost:8080/",
          "height": 118
        }
      },
      "source": [
        "%%R\n"
      ],
      "execution_count": 0,
      "outputs": [
        {
          "output_type": "display_data",
          "data": {
            "text/plain": [
              "[1] \"RANGO BAJO\"\n",
              "[1] \"primer renglon\"\n",
              "[1] \"segundo renglon\"\n",
              "[1] \"RANGO MEDIO\"\n",
              "[1] \"RANGO ALTO\"\n",
              "[1] \"RANGO ALTO\"\n"
            ]
          },
          "metadata": {
            "tags": []
          }
        }
      ]
    },
    {
      "cell_type": "markdown",
      "metadata": {
        "id": "ndh9PjMSWyYY",
        "colab_type": "text"
      },
      "source": [
        "El número de veces que se repite la expresión o expresiones englobadas en la instrucción, puede estar explícita en ella misma."
      ]
    },
    {
      "cell_type": "code",
      "metadata": {
        "id": "1EHt43k5VtHK",
        "colab_type": "code",
        "outputId": "0723704a-f79f-40c3-8fd0-e5770e3581ff",
        "colab": {
          "base_uri": "https://localhost:8080/",
          "height": 269
        }
      },
      "source": [
        "%%R\n"
      ],
      "execution_count": 0,
      "outputs": [
        {
          "output_type": "display_data",
          "data": {
            "text/plain": [
              "[1] 1\n",
              "[1] 4\n",
              "[1] 9\n",
              "[1] 16\n",
              "[1] 25\n",
              "[1] 36\n",
              "[1] 49\n",
              "[1] 64\n",
              "[1] 81\n",
              "[1] 100\n",
              "[1] 121\n",
              "[1] 144\n",
              "[1] 169\n",
              "[1] 196\n",
              "[1] 225\n"
            ]
          },
          "metadata": {
            "tags": []
          }
        }
      ]
    },
    {
      "cell_type": "code",
      "metadata": {
        "id": "ZPc4d-ytVtKN",
        "colab_type": "code",
        "outputId": "1c3fda94-897f-4ac4-ae71-a18f9fd54e79",
        "colab": {
          "base_uri": "https://localhost:8080/",
          "height": 101
        }
      },
      "source": [
        "%%R\n"
      ],
      "execution_count": 0,
      "outputs": [
        {
          "output_type": "display_data",
          "data": {
            "text/plain": [
              "[1] \"C\"\n",
              "[1] \"A\"\n",
              "[1] \"L\"\n",
              "[1] \"O\"\n",
              "[1] \"R\"\n"
            ]
          },
          "metadata": {
            "tags": []
          }
        }
      ]
    },
    {
      "cell_type": "markdown",
      "metadata": {
        "id": "WQCcQJkD3XtK",
        "colab_type": "text"
      },
      "source": [
        "WHILE\n",
        "Con while se llevan a cabo repeticiones bajo una condición"
      ]
    },
    {
      "cell_type": "code",
      "metadata": {
        "id": "u4vzHop7VtNJ",
        "colab_type": "code",
        "outputId": "0ca0d246-d888-4609-9cf0-c7ff07a7a183",
        "colab": {
          "base_uri": "https://localhost:8080/",
          "height": 128
        }
      },
      "source": [
        "%%R\n"
      ],
      "execution_count": 0,
      "outputs": [
        {
          "output_type": "error",
          "ename": "SyntaxError",
          "evalue": "ignored",
          "traceback": [
            "\u001b[0;36m  File \u001b[0;32m\"<ipython-input-29-21a1198f81d9>\"\u001b[0;36m, line \u001b[0;32m2\u001b[0m\n\u001b[0;31m    while (i <= 6) {\u001b[0m\n\u001b[0m                   ^\u001b[0m\n\u001b[0;31mSyntaxError\u001b[0m\u001b[0;31m:\u001b[0m invalid syntax\n"
          ]
        }
      ]
    },
    {
      "cell_type": "code",
      "metadata": {
        "id": "U_xmqr8VVtQg",
        "colab_type": "code",
        "colab": {}
      },
      "source": [
        "%%R\n"
      ],
      "execution_count": 0,
      "outputs": []
    },
    {
      "cell_type": "markdown",
      "metadata": {
        "id": "xJQcZaT34Gfs",
        "colab_type": "text"
      },
      "source": [
        "## Funciones apply,lapply,sapply"
      ]
    },
    {
      "cell_type": "markdown",
      "metadata": {
        "id": "y_nxDF0r4ZVL",
        "colab_type": "text"
      },
      "source": [
        "Función apply\n",
        "Esta función permite un manejo eficiente de conjuntos grandes de datos. Con ella, se puede realizar la misma operación en todas las filas y columnas de una matriz. Únicamente hay que indicar la operación que se realizará en los datos y el índice/índices sobre los cuales ha de llevarse a cabo."
      ]
    },
    {
      "cell_type": "code",
      "metadata": {
        "id": "HIeDHdpYVtTD",
        "colab_type": "code",
        "colab": {}
      },
      "source": [
        "%%R\n",
        "#Construir una matriz que contenga 10 filas, 5 columnas, y sumar cada una de sus filas."
      ],
      "execution_count": 0,
      "outputs": []
    },
    {
      "cell_type": "code",
      "metadata": {
        "id": "gIAWhbPy4WBi",
        "colab_type": "code",
        "colab": {}
      },
      "source": [
        "%%R\n",
        "#Sumar los elementos de cada una de sus columnas.\n",
        "\n",
        "\n"
      ],
      "execution_count": 0,
      "outputs": []
    },
    {
      "cell_type": "code",
      "metadata": {
        "id": "hJH-EOP04WGe",
        "colab_type": "code",
        "colab": {}
      },
      "source": [
        "%%R\n",
        "#e puede obtener información específica de los elementos contenidos en la matriz.\n"
      ],
      "execution_count": 0,
      "outputs": []
    },
    {
      "cell_type": "markdown",
      "metadata": {
        "id": "4eXS5VUC45Dc",
        "colab_type": "text"
      },
      "source": [
        "Funciones lapply y sapply. Son utilizadas para aplicar el mismo comando a todas las varibales de una lista, lapply aplica una función a cada elemento de una lista (el resultado es otra lista). Sapply actúa igual, pero el resultado es un vector o una matriz."
      ]
    },
    {
      "cell_type": "code",
      "metadata": {
        "id": "rDneo21I4WMu",
        "colab_type": "code",
        "colab": {}
      },
      "source": [
        "%%R\n"
      ],
      "execution_count": 0,
      "outputs": []
    },
    {
      "cell_type": "markdown",
      "metadata": {
        "id": "Gz2MUT1D5OvJ",
        "colab_type": "text"
      },
      "source": [
        "## Ejercicios\n"
      ]
    },
    {
      "cell_type": "markdown",
      "metadata": {
        "id": "NifR_5aY5R8i",
        "colab_type": "text"
      },
      "source": [
        "Un grupo de amigos está formado por Ana de 23 años, Luis de 24 años, Pedro de 22, Juan de 24, Eva de 21 y Jorge de 22 años. Crea los vectores correspondientes a nombre, edad y sexo. (Usa la codificación M=mujer, H=hombre). Con los datos anteriores crea un dataframe con los vectores nombre, edad y sexo."
      ]
    },
    {
      "cell_type": "code",
      "metadata": {
        "id": "IZ32X21s4WQ-",
        "colab_type": "code",
        "colab": {}
      },
      "source": [
        ""
      ],
      "execution_count": 0,
      "outputs": []
    },
    {
      "cell_type": "markdown",
      "metadata": {
        "id": "B4S6SgY-5dwA",
        "colab_type": "text"
      },
      "source": [
        "Imprima los primeros 10 números de la serie Fibonacci"
      ]
    },
    {
      "cell_type": "code",
      "metadata": {
        "id": "GL_aLXpQ4WPd",
        "colab_type": "code",
        "outputId": "10cf2cbc-ffcc-4832-9444-037c8d102c53",
        "colab": {
          "base_uri": "https://localhost:8080/",
          "height": 50
        }
      },
      "source": [
        "%%R\n"
      ],
      "execution_count": 0,
      "outputs": [
        {
          "output_type": "display_data",
          "data": {
            "text/plain": [
              "[1] \"First 10 Fibonacci numbers:\"\n",
              " [1]   1   1   2   3   5   8  13  21  34  55  89 144 233\n"
            ]
          },
          "metadata": {
            "tags": []
          }
        }
      ]
    },
    {
      "cell_type": "markdown",
      "metadata": {
        "id": "QRMtzNRP7lvD",
        "colab_type": "text"
      },
      "source": [
        "Sumar los enteros positivos hasta que la suma pase de 500"
      ]
    },
    {
      "cell_type": "code",
      "metadata": {
        "id": "R9R8WCvx4WK7",
        "colab_type": "code",
        "outputId": "890d98af-2986-4668-8e28-ca3168bfdfdb",
        "colab": {
          "base_uri": "https://localhost:8080/",
          "height": 1000
        }
      },
      "source": [
        "%%R\n"
      ],
      "execution_count": 0,
      "outputs": [
        {
          "output_type": "display_data",
          "data": {
            "text/plain": [
              "[1] 1\n",
              "[1] 1\n",
              "[1] 3\n",
              "[1] 2\n",
              "[1] 6\n",
              "[1] 3\n",
              "[1] 10\n",
              "[1] 4\n",
              "[1] 15\n",
              "[1] 5\n",
              "[1] 21\n",
              "[1] 6\n",
              "[1] 28\n",
              "[1] 7\n",
              "[1] 36\n",
              "[1] 8\n",
              "[1] 45\n",
              "[1] 9\n",
              "[1] 55\n",
              "[1] 10\n",
              "[1] 66\n",
              "[1] 11\n",
              "[1] 78\n",
              "[1] 12\n",
              "[1] 91\n",
              "[1] 13\n",
              "[1] 105\n",
              "[1] 14\n",
              "[1] 120\n",
              "[1] 15\n",
              "[1] 136\n",
              "[1] 16\n",
              "[1] 153\n",
              "[1] 17\n",
              "[1] 171\n",
              "[1] 18\n",
              "[1] 190\n",
              "[1] 19\n",
              "[1] 210\n",
              "[1] 20\n",
              "[1] 231\n",
              "[1] 21\n",
              "[1] 253\n",
              "[1] 22\n",
              "[1] 276\n",
              "[1] 23\n",
              "[1] 300\n",
              "[1] 24\n",
              "[1] 325\n",
              "[1] 25\n",
              "[1] 351\n",
              "[1] 26\n",
              "[1] 378\n",
              "[1] 27\n",
              "[1] 406\n",
              "[1] 28\n",
              "[1] 435\n",
              "[1] 29\n",
              "[1] 465\n",
              "[1] 30\n",
              "[1] 496\n",
              "[1] 31\n",
              "[1] 528\n",
              "[1] 32\n"
            ]
          },
          "metadata": {
            "tags": []
          }
        }
      ]
    },
    {
      "cell_type": "code",
      "metadata": {
        "id": "4sFuzyHu4WIy",
        "colab_type": "code",
        "colab": {}
      },
      "source": [
        ""
      ],
      "execution_count": 0,
      "outputs": []
    },
    {
      "cell_type": "code",
      "metadata": {
        "id": "Yuo7oTrT4WEm",
        "colab_type": "code",
        "colab": {}
      },
      "source": [
        ""
      ],
      "execution_count": 0,
      "outputs": []
    },
    {
      "cell_type": "code",
      "metadata": {
        "id": "ScwRH6DqVtV4",
        "colab_type": "code",
        "colab": {}
      },
      "source": [
        ""
      ],
      "execution_count": 0,
      "outputs": []
    }
  ]
}