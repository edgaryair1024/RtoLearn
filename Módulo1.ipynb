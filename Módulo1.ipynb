{
  "nbformat": 4,
  "nbformat_minor": 0,
  "metadata": {
    "colab": {
      "name": "Módulo1.ipynb",
      "provenance": [],
      "collapsed_sections": [],
      "toc_visible": true,
      "include_colab_link": true
    },
    "kernelspec": {
      "name": "python3",
      "display_name": "Python 3"
    },
    "accelerator": "GPU"
  },
  "cells": [
    {
      "cell_type": "markdown",
      "metadata": {
        "id": "view-in-github",
        "colab_type": "text"
      },
      "source": [
        "<a href=\"https://colab.research.google.com/github/pikey-msc/CursoDF/blob/master/M%C3%B3dulo1.ipynb\" target=\"_parent\"><img src=\"https://colab.research.google.com/assets/colab-badge.svg\" alt=\"Open In Colab\"/></a>"
      ]
    },
    {
      "cell_type": "markdown",
      "metadata": {
        "id": "2BSbruRn6l0u",
        "colab_type": "text"
      },
      "source": [
        "## Ambiente colaborativo"
      ]
    },
    {
      "cell_type": "markdown",
      "metadata": {
        "id": "Fa2PGYsy7Kjq",
        "colab_type": "text"
      },
      "source": [
        "Es posible importar archivos de fuentes como github, gdrive y de local."
      ]
    },
    {
      "cell_type": "code",
      "metadata": {
        "id": "GU4dPJPT7s4D",
        "colab_type": "code",
        "colab": {}
      },
      "source": [
        "# De google drive\n",
        "from google.colab import drive\n",
        "drive.mount('/content/drive')"
      ],
      "execution_count": 0,
      "outputs": []
    },
    {
      "cell_type": "code",
      "metadata": {
        "id": "lg6S7IsH7XXG",
        "colab_type": "code",
        "colab": {
          "resources": {
            "http://localhost:8080/nbextensions/google.colab/files.js": {
              "data": "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",
              "ok": true,
              "headers": [
                [
                  "content-type",
                  "application/javascript"
                ]
              ],
              "status": 200,
              "status_text": ""
            }
          },
          "base_uri": "https://localhost:8080/",
          "height": 74
        },
        "outputId": "85fed9b6-ad5a-44fa-c1f5-2d0a7103a83b"
      },
      "source": [
        "# De local\n",
        "from google.colab import files\n",
        "data=files.upload()"
      ],
      "execution_count": 2,
      "outputs": [
        {
          "output_type": "display_data",
          "data": {
            "text/html": [
              "\n",
              "     <input type=\"file\" id=\"files-d320504e-8706-496d-8dab-8e366de96890\" name=\"files[]\" multiple disabled />\n",
              "     <output id=\"result-d320504e-8706-496d-8dab-8e366de96890\">\n",
              "      Upload widget is only available when the cell has been executed in the\n",
              "      current browser session. Please rerun this cell to enable.\n",
              "      </output>\n",
              "      <script src=\"/nbextensions/google.colab/files.js\"></script> "
            ],
            "text/plain": [
              "<IPython.core.display.HTML object>"
            ]
          },
          "metadata": {
            "tags": []
          }
        },
        {
          "output_type": "stream",
          "text": [
            "Saving Temario Módulo 1.xlsx to Temario Módulo 1.xlsx\n"
          ],
          "name": "stdout"
        }
      ]
    },
    {
      "cell_type": "code",
      "metadata": {
        "id": "bs3bHC077XiT",
        "colab_type": "code",
        "colab": {
          "base_uri": "https://localhost:8080/",
          "height": 34
        },
        "outputId": "8a1f08ca-bb10-40c9-c465-7d89940318b2"
      },
      "source": [
        "# De github\n",
        "!git clone 'https://github.com/pikey-msc/CursoDF'"
      ],
      "execution_count": 16,
      "outputs": [
        {
          "output_type": "stream",
          "text": [
            "fatal: destination path 'CursoDF' already exists and is not an empty directory.\n"
          ],
          "name": "stdout"
        }
      ]
    },
    {
      "cell_type": "markdown",
      "metadata": {
        "id": "YJFCL0rMBMvR",
        "colab_type": "text"
      },
      "source": [
        "Lenguje Python\n"
      ]
    },
    {
      "cell_type": "code",
      "metadata": {
        "id": "yml5vx0UBQCU",
        "colab_type": "code",
        "colab": {}
      },
      "source": [
        "# Importar librerías\n",
        "import pandas as pd\n",
        "import matplotlib.pyplot as plt\n",
        "import seaborn as sns"
      ],
      "execution_count": 0,
      "outputs": []
    },
    {
      "cell_type": "code",
      "metadata": {
        "id": "zioInrBkBQL_",
        "colab_type": "code",
        "colab": {
          "base_uri": "https://localhost:8080/",
          "height": 252
        },
        "outputId": "cf4e2a26-92f8-437e-ab75-84d4cdb2f3c7"
      },
      "source": [
        "# Leer archivos\n",
        "data = pd.read_excel('/content/CursoDF/M1/Temario Módulo 1.xlsx')\n",
        "print(\"data\", data)"
      ],
      "execution_count": 18,
      "outputs": [
        {
          "output_type": "stream",
          "text": [
            "data     Unnamed: 0 Módulo 1              Unnamed: 2\n",
            "0          NaN        1  Conceptos básicos de R\n",
            "1          NaN      1.1   Ambiente colaborativo\n",
            "2          NaN    1.1.1         Lenguaje Python\n",
            "3          NaN    1.1.2              Lenguaje R\n",
            "4          NaN      1.2     Operaciones básicas\n",
            "5          NaN      1.2   Creación de variables\n",
            "6          NaN      1.3     Vectores y matrices\n",
            "7          NaN      1.4               DatFrames\n",
            "8          NaN      1.5  Estructuras primitivas\n",
            "9          NaN    1.5.1            if-then-else\n",
            "10         NaN    1.5.2                     for\n",
            "11         NaN    1.5.3                   while\n",
            "12         NaN      1.6     Apply-Sapply-Lapply\n"
          ],
          "name": "stdout"
        }
      ]
    },
    {
      "cell_type": "markdown",
      "metadata": {
        "id": "pSLiY8qnCic4",
        "colab_type": "text"
      },
      "source": [
        "## El lenguaje R en el ambiente colaborativo"
      ]
    },
    {
      "cell_type": "code",
      "metadata": {
        "id": "Iw8tZOJ2CnBL",
        "colab_type": "code",
        "colab": {
          "base_uri": "https://localhost:8080/",
          "height": 50
        },
        "outputId": "1080b996-affa-49df-8061-f2e64e575dc3"
      },
      "source": [
        "%load_ext rpy2.ipython"
      ],
      "execution_count": 19,
      "outputs": [
        {
          "output_type": "stream",
          "text": [
            "The rpy2.ipython extension is already loaded. To reload it, use:\n",
            "  %reload_ext rpy2.ipython\n"
          ],
          "name": "stdout"
        }
      ]
    },
    {
      "cell_type": "code",
      "metadata": {
        "id": "nbtm4n6gCnHE",
        "colab_type": "code",
        "colab": {
          "base_uri": "https://localhost:8080/",
          "height": 1000
        },
        "outputId": "cfd7804f-1ad4-422c-dafd-a726c28cdc0b"
      },
      "source": [
        "%%R\n",
        "#Instalamos las bibliotecas que utilizaremos\n",
        "install.packages(\"MPDiR\")    # Donde estan los datos Chromatic\n",
        "install.packages(\"dplyr\")    # Para manipulación de datos\n",
        "install.packages(\"ggplot2\")  # Para poder gráficar\n",
        "install.packages(\"lattice\")  # Para poder graficar xyplot y condicionados\n",
        "install.packages(\"readxl\")   # Para abrir archivos en excel\n",
        "install.packages(\"MASS\")     # Para hacer regresiones de tipo binomial negativa\n",
        "install.packages(\"caret\")\n",
        "install.packages(\"caret\")    # Permite evaluar los modelos de regresion\n",
        "install.packages(\"plotly\")   # Para hacer gráficos dinámicos\n",
        "install.packages(\"mlbench\")  # Permite obtener los datos de Sonar\n",
        "install.packages(\"e1071\") # Solucion error caret\n",
        "install.packages(\"caTools\") # Permite calcular el score AUC de la Curva ROC\n",
        "install.packages(\"matlib\")"
      ],
      "execution_count": 20,
      "outputs": [
        {
          "output_type": "stream",
          "text": [
            "/usr/local/lib/python3.6/dist-packages/rpy2/rinterface/__init__.py:146: RRuntimeWarning: Installing package into ‘/usr/local/lib/R/site-library’\n",
            "(as ‘lib’ is unspecified)\n",
            "\n",
            "  warnings.warn(x, RRuntimeWarning)\n",
            "/usr/local/lib/python3.6/dist-packages/rpy2/rinterface/__init__.py:146: RRuntimeWarning: trying URL 'https://cran.rstudio.com/src/contrib/MPDiR_0.1-16.tar.gz'\n",
            "\n",
            "  warnings.warn(x, RRuntimeWarning)\n",
            "/usr/local/lib/python3.6/dist-packages/rpy2/rinterface/__init__.py:146: RRuntimeWarning: Content type 'application/x-gzip'\n",
            "  warnings.warn(x, RRuntimeWarning)\n",
            "/usr/local/lib/python3.6/dist-packages/rpy2/rinterface/__init__.py:146: RRuntimeWarning:  length 171284 bytes (167 KB)\n",
            "\n",
            "  warnings.warn(x, RRuntimeWarning)\n",
            "/usr/local/lib/python3.6/dist-packages/rpy2/rinterface/__init__.py:146: RRuntimeWarning: =\n",
            "  warnings.warn(x, RRuntimeWarning)\n",
            "/usr/local/lib/python3.6/dist-packages/rpy2/rinterface/__init__.py:146: RRuntimeWarning: \n",
            "\n",
            "  warnings.warn(x, RRuntimeWarning)\n",
            "/usr/local/lib/python3.6/dist-packages/rpy2/rinterface/__init__.py:146: RRuntimeWarning: downloaded 167 KB\n",
            "\n",
            "\n",
            "  warnings.warn(x, RRuntimeWarning)\n",
            "/usr/local/lib/python3.6/dist-packages/rpy2/rinterface/__init__.py:146: RRuntimeWarning: \n",
            "  warnings.warn(x, RRuntimeWarning)\n",
            "/usr/local/lib/python3.6/dist-packages/rpy2/rinterface/__init__.py:146: RRuntimeWarning: The downloaded source packages are in\n",
            "\t‘/tmp/RtmpFuwLRU/downloaded_packages’\n",
            "  warnings.warn(x, RRuntimeWarning)\n",
            "/usr/local/lib/python3.6/dist-packages/rpy2/rinterface/__init__.py:146: RRuntimeWarning: trying URL 'https://cran.rstudio.com/src/contrib/dplyr_0.8.3.tar.gz'\n",
            "\n",
            "  warnings.warn(x, RRuntimeWarning)\n",
            "/usr/local/lib/python3.6/dist-packages/rpy2/rinterface/__init__.py:146: RRuntimeWarning:  length 1173098 bytes (1.1 MB)\n",
            "\n",
            "  warnings.warn(x, RRuntimeWarning)\n",
            "/usr/local/lib/python3.6/dist-packages/rpy2/rinterface/__init__.py:146: RRuntimeWarning: downloaded 1.1 MB\n",
            "\n",
            "\n",
            "  warnings.warn(x, RRuntimeWarning)\n",
            "/usr/local/lib/python3.6/dist-packages/rpy2/rinterface/__init__.py:146: RRuntimeWarning: trying URL 'https://cran.rstudio.com/src/contrib/ggplot2_3.2.1.tar.gz'\n",
            "\n",
            "  warnings.warn(x, RRuntimeWarning)\n",
            "/usr/local/lib/python3.6/dist-packages/rpy2/rinterface/__init__.py:146: RRuntimeWarning:  length 3204655 bytes (3.1 MB)\n",
            "\n",
            "  warnings.warn(x, RRuntimeWarning)\n",
            "/usr/local/lib/python3.6/dist-packages/rpy2/rinterface/__init__.py:146: RRuntimeWarning: downloaded 3.1 MB\n",
            "\n",
            "\n",
            "  warnings.warn(x, RRuntimeWarning)\n",
            "/usr/local/lib/python3.6/dist-packages/rpy2/rinterface/__init__.py:146: RRuntimeWarning: trying URL 'https://cran.rstudio.com/src/contrib/lattice_0.20-38.tar.gz'\n",
            "\n",
            "  warnings.warn(x, RRuntimeWarning)\n",
            "/usr/local/lib/python3.6/dist-packages/rpy2/rinterface/__init__.py:146: RRuntimeWarning:  length 359031 bytes (350 KB)\n",
            "\n",
            "  warnings.warn(x, RRuntimeWarning)\n",
            "/usr/local/lib/python3.6/dist-packages/rpy2/rinterface/__init__.py:146: RRuntimeWarning: downloaded 350 KB\n",
            "\n",
            "\n",
            "  warnings.warn(x, RRuntimeWarning)\n",
            "/usr/local/lib/python3.6/dist-packages/rpy2/rinterface/__init__.py:146: RRuntimeWarning: trying URL 'https://cran.rstudio.com/src/contrib/readxl_1.3.1.tar.gz'\n",
            "\n",
            "  warnings.warn(x, RRuntimeWarning)\n",
            "/usr/local/lib/python3.6/dist-packages/rpy2/rinterface/__init__.py:146: RRuntimeWarning:  length 2056165 bytes (2.0 MB)\n",
            "\n",
            "  warnings.warn(x, RRuntimeWarning)\n",
            "/usr/local/lib/python3.6/dist-packages/rpy2/rinterface/__init__.py:146: RRuntimeWarning: downloaded 2.0 MB\n",
            "\n",
            "\n",
            "  warnings.warn(x, RRuntimeWarning)\n",
            "/usr/local/lib/python3.6/dist-packages/rpy2/rinterface/__init__.py:146: RRuntimeWarning: trying URL 'https://cran.rstudio.com/src/contrib/MASS_7.3-51.4.tar.gz'\n",
            "\n",
            "  warnings.warn(x, RRuntimeWarning)\n",
            "/usr/local/lib/python3.6/dist-packages/rpy2/rinterface/__init__.py:146: RRuntimeWarning:  length 487233 bytes (475 KB)\n",
            "\n",
            "  warnings.warn(x, RRuntimeWarning)\n",
            "/usr/local/lib/python3.6/dist-packages/rpy2/rinterface/__init__.py:146: RRuntimeWarning: downloaded 475 KB\n",
            "\n",
            "\n",
            "  warnings.warn(x, RRuntimeWarning)\n",
            "/usr/local/lib/python3.6/dist-packages/rpy2/rinterface/__init__.py:146: RRuntimeWarning: trying URL 'https://cran.rstudio.com/src/contrib/caret_6.0-84.tar.gz'\n",
            "\n",
            "  warnings.warn(x, RRuntimeWarning)\n",
            "/usr/local/lib/python3.6/dist-packages/rpy2/rinterface/__init__.py:146: RRuntimeWarning:  length 5250927 bytes (5.0 MB)\n",
            "\n",
            "  warnings.warn(x, RRuntimeWarning)\n",
            "/usr/local/lib/python3.6/dist-packages/rpy2/rinterface/__init__.py:146: RRuntimeWarning: downloaded 5.0 MB\n",
            "\n",
            "\n",
            "  warnings.warn(x, RRuntimeWarning)\n",
            "/usr/local/lib/python3.6/dist-packages/rpy2/rinterface/__init__.py:146: RRuntimeWarning: trying URL 'https://cran.rstudio.com/src/contrib/plotly_4.9.1.tar.gz'\n",
            "\n",
            "  warnings.warn(x, RRuntimeWarning)\n",
            "/usr/local/lib/python3.6/dist-packages/rpy2/rinterface/__init__.py:146: RRuntimeWarning:  length 3552408 bytes (3.4 MB)\n",
            "\n",
            "  warnings.warn(x, RRuntimeWarning)\n",
            "/usr/local/lib/python3.6/dist-packages/rpy2/rinterface/__init__.py:146: RRuntimeWarning: downloaded 3.4 MB\n",
            "\n",
            "\n",
            "  warnings.warn(x, RRuntimeWarning)\n",
            "/usr/local/lib/python3.6/dist-packages/rpy2/rinterface/__init__.py:146: RRuntimeWarning: trying URL 'https://cran.rstudio.com/src/contrib/mlbench_2.1-1.tar.gz'\n",
            "\n",
            "  warnings.warn(x, RRuntimeWarning)\n",
            "/usr/local/lib/python3.6/dist-packages/rpy2/rinterface/__init__.py:146: RRuntimeWarning:  length 920768 bytes (899 KB)\n",
            "\n",
            "  warnings.warn(x, RRuntimeWarning)\n",
            "/usr/local/lib/python3.6/dist-packages/rpy2/rinterface/__init__.py:146: RRuntimeWarning: downloaded 899 KB\n",
            "\n",
            "\n",
            "  warnings.warn(x, RRuntimeWarning)\n",
            "/usr/local/lib/python3.6/dist-packages/rpy2/rinterface/__init__.py:146: RRuntimeWarning: trying URL 'https://cran.rstudio.com/src/contrib/e1071_1.7-2.tar.gz'\n",
            "\n",
            "  warnings.warn(x, RRuntimeWarning)\n",
            "/usr/local/lib/python3.6/dist-packages/rpy2/rinterface/__init__.py:146: RRuntimeWarning:  length 583003 bytes (569 KB)\n",
            "\n",
            "  warnings.warn(x, RRuntimeWarning)\n",
            "/usr/local/lib/python3.6/dist-packages/rpy2/rinterface/__init__.py:146: RRuntimeWarning: downloaded 569 KB\n",
            "\n",
            "\n",
            "  warnings.warn(x, RRuntimeWarning)\n",
            "/usr/local/lib/python3.6/dist-packages/rpy2/rinterface/__init__.py:146: RRuntimeWarning: trying URL 'https://cran.rstudio.com/src/contrib/caTools_1.17.1.2.tar.gz'\n",
            "\n",
            "  warnings.warn(x, RRuntimeWarning)\n",
            "/usr/local/lib/python3.6/dist-packages/rpy2/rinterface/__init__.py:146: RRuntimeWarning:  length 63590 bytes (62 KB)\n",
            "\n",
            "  warnings.warn(x, RRuntimeWarning)\n",
            "/usr/local/lib/python3.6/dist-packages/rpy2/rinterface/__init__.py:146: RRuntimeWarning: downloaded 62 KB\n",
            "\n",
            "\n",
            "  warnings.warn(x, RRuntimeWarning)\n",
            "/usr/local/lib/python3.6/dist-packages/rpy2/rinterface/__init__.py:146: RRuntimeWarning: trying URL 'https://cran.rstudio.com/src/contrib/matlib_0.9.2.tar.gz'\n",
            "\n",
            "  warnings.warn(x, RRuntimeWarning)\n",
            "/usr/local/lib/python3.6/dist-packages/rpy2/rinterface/__init__.py:146: RRuntimeWarning:  length 219147 bytes (214 KB)\n",
            "\n",
            "  warnings.warn(x, RRuntimeWarning)\n",
            "/usr/local/lib/python3.6/dist-packages/rpy2/rinterface/__init__.py:146: RRuntimeWarning: downloaded 214 KB\n",
            "\n",
            "\n",
            "  warnings.warn(x, RRuntimeWarning)\n"
          ],
          "name": "stderr"
        }
      ]
    },
    {
      "cell_type": "code",
      "metadata": {
        "id": "YpJcYX2gCnJc",
        "colab_type": "code",
        "colab": {}
      },
      "source": [
        "%%R\n",
        "library(MPDiR)   # Donde estan los datos Chromatic\n",
        "library(dplyr)   # Para manipulación de datos\n",
        "library(ggplot2)  # Para poder gráficar\n",
        "library(lattice)  # Para poder graficar xyplot y condicionados\n",
        "library(readxl)  # Para abrir archivos en excel\n",
        "library(MASS)    # Para hacer regresiones de tipo binomial negativa\n",
        "library(caret)\n",
        "library(caret)   # Permite evaluar los modelos de regresion\n",
        "library(plotly)  # Para hacer gráficos dinámicos\n",
        "library(mlbench)  # Permite obtener los datos de Sonar\n",
        "library(e1071)  #Solucion error caret\n",
        "library(caTools) # Permite calcular el score AUC de la Curva ROC\n",
        "library(matlib)"
      ],
      "execution_count": 0,
      "outputs": []
    },
    {
      "cell_type": "markdown",
      "metadata": {
        "id": "4WR3N2YEzYus",
        "colab_type": "text"
      },
      "source": [
        "Operaciones básicas"
      ]
    },
    {
      "cell_type": "code",
      "metadata": {
        "id": "Dn19MPjOCnPE",
        "colab_type": "code",
        "colab": {
          "base_uri": "https://localhost:8080/",
          "height": 34
        },
        "outputId": "cd47655f-d7ce-4543-be71-9c7d662c7aa4"
      },
      "source": [
        "%%R\n",
        "5 + 5"
      ],
      "execution_count": 23,
      "outputs": [
        {
          "output_type": "display_data",
          "data": {
            "text/plain": [
              "[1] 4\n"
            ]
          },
          "metadata": {
            "tags": []
          }
        }
      ]
    },
    {
      "cell_type": "code",
      "metadata": {
        "id": "FdcOvY9mCnYB",
        "colab_type": "code",
        "colab": {
          "base_uri": "https://localhost:8080/",
          "height": 34
        },
        "outputId": "48cb6f21-a85c-4561-f456-4db10b078348"
      },
      "source": [
        "%%R\n",
        "5 - 5"
      ],
      "execution_count": 24,
      "outputs": [
        {
          "output_type": "display_data",
          "data": {
            "text/plain": [
              "[1] 0\n"
            ]
          },
          "metadata": {
            "tags": []
          }
        }
      ]
    },
    {
      "cell_type": "code",
      "metadata": {
        "id": "w9di1OVcCnbl",
        "colab_type": "code",
        "colab": {
          "base_uri": "https://localhost:8080/",
          "height": 34
        },
        "outputId": "3c7dbac1-b086-403a-b28a-fd6df0e95835"
      },
      "source": [
        "%%R\n",
        "3 * 5"
      ],
      "execution_count": 25,
      "outputs": [
        {
          "output_type": "display_data",
          "data": {
            "text/plain": [
              "[1] 15\n"
            ]
          },
          "metadata": {
            "tags": []
          }
        }
      ]
    },
    {
      "cell_type": "code",
      "metadata": {
        "id": "9YtrAHgPCnEs",
        "colab_type": "code",
        "colab": {
          "base_uri": "https://localhost:8080/",
          "height": 34
        },
        "outputId": "5ad408ea-1cd8-4256-b8d2-8349e73654f0"
      },
      "source": [
        "%%R\n",
        "(5 + 5) / 2"
      ],
      "execution_count": 26,
      "outputs": [
        {
          "output_type": "display_data",
          "data": {
            "text/plain": [
              "[1] 5\n"
            ]
          },
          "metadata": {
            "tags": []
          }
        }
      ]
    },
    {
      "cell_type": "code",
      "metadata": {
        "id": "CEb34xNdBQPU",
        "colab_type": "code",
        "colab": {
          "base_uri": "https://localhost:8080/",
          "height": 34
        },
        "outputId": "556ba325-b301-41e4-f1cb-aa9e5155480d"
      },
      "source": [
        "%%R\n",
        "2^5"
      ],
      "execution_count": 27,
      "outputs": [
        {
          "output_type": "display_data",
          "data": {
            "text/plain": [
              "[1] 32\n"
            ]
          },
          "metadata": {
            "tags": []
          }
        }
      ]
    },
    {
      "cell_type": "code",
      "metadata": {
        "id": "DJHYgomw0PAA",
        "colab_type": "code",
        "colab": {
          "base_uri": "https://localhost:8080/",
          "height": 34
        },
        "outputId": "4f3a2bcb-8cd5-402e-c402-8a98fe48e0b8"
      },
      "source": [
        "%%R\n",
        "\n",
        "28%%6"
      ],
      "execution_count": 28,
      "outputs": [
        {
          "output_type": "display_data",
          "data": {
            "text/plain": [
              "[1] 4\n"
            ]
          },
          "metadata": {
            "tags": []
          }
        }
      ]
    },
    {
      "cell_type": "code",
      "metadata": {
        "id": "XPAtT3TC0PCt",
        "colab_type": "code",
        "colab": {
          "base_uri": "https://localhost:8080/",
          "height": 34
        },
        "outputId": "c099c49b-015d-4b56-b7bd-6a2155fe4427"
      },
      "source": [
        "%%R\n",
        "a<-5\n",
        "b<-100\n",
        "20->c\n",
        "a+b-c"
      ],
      "execution_count": 29,
      "outputs": [
        {
          "output_type": "display_data",
          "data": {
            "text/plain": [
              "[1] 85\n"
            ]
          },
          "metadata": {
            "tags": []
          }
        }
      ]
    },
    {
      "cell_type": "code",
      "metadata": {
        "id": "DaxDADbp0PFf",
        "colab_type": "code",
        "colab": {}
      },
      "source": [
        "%%R\n",
        "complex<-10-5i"
      ],
      "execution_count": 0,
      "outputs": []
    },
    {
      "cell_type": "code",
      "metadata": {
        "id": "W2R8u-Q20PII",
        "colab_type": "code",
        "colab": {
          "base_uri": "https://localhost:8080/",
          "height": 34
        },
        "outputId": "15801a90-9293-48dd-8e5e-67cbbed51068"
      },
      "source": [
        "%%R\n",
        "class(complex)"
      ],
      "execution_count": 33,
      "outputs": [
        {
          "output_type": "display_data",
          "data": {
            "text/plain": [
              "[1] \"complex\"\n"
            ]
          },
          "metadata": {
            "tags": []
          }
        }
      ]
    },
    {
      "cell_type": "markdown",
      "metadata": {
        "id": "Max5gkbc5_LO",
        "colab_type": "text"
      },
      "source": [
        "## Creación de vectores y matrices"
      ]
    },
    {
      "cell_type": "markdown",
      "metadata": {
        "id": "w1MHARMO6Gu1",
        "colab_type": "text"
      },
      "source": [
        "Función c() para crear vectores\n",
        "Esta función crea vectores a partir de elementos individuales, esto quiere decir, que el usuario intruduce dichos valores. No importa que los vectores guarden la misma información, cada uno de ellos se diferencia por el nombre de asignación. Esta función concatene varios elementos del mismo tipo, cuando se imprime el vector se hace en un renglón que comienza con el símbolo ‘[1]’, indicando con ello que el primer elemento del renglón corresponde al primer elemento del vector."
      ]
    },
    {
      "cell_type": "code",
      "metadata": {
        "id": "5bswyh6-0PP6",
        "colab_type": "code",
        "colab": {
          "base_uri": "https://localhost:8080/",
          "height": 101
        },
        "outputId": "81eaf8b6-8ebf-46a8-aa27-b14b94676c74"
      },
      "source": [
        "%%R\n",
        "a<-c(5,10,15,20)\n",
        "print(a)\n",
        "print(class(a))\n",
        "c(4,8,12,16)->b\n",
        "print(b)\n",
        "d=c(5,10,15,20)\n",
        "print(d)\n",
        "print(class(d))"
      ],
      "execution_count": 36,
      "outputs": [
        {
          "output_type": "display_data",
          "data": {
            "text/plain": [
              "[1]  5 10 15 20\n",
              "[1] \"numeric\"\n",
              "[1]  4  8 12 16\n",
              "[1]  5 10 15 20\n",
              "[1] \"numeric\"\n"
            ]
          },
          "metadata": {
            "tags": []
          }
        }
      ]
    },
    {
      "cell_type": "markdown",
      "metadata": {
        "id": "rCmqpxas7Flj",
        "colab_type": "text"
      },
      "source": [
        "Ejercicio. Construir un objeto a que contenga los elementos 2 y 4. \n",
        "\n",
        "1.   Construir un objeto a que contenga los elementos 2 y 4. También hacerlo para b, pero en ese caso que contenga del 2 al 4.\n",
        "2.   Crear un vector que contenga una secuencia de 5 en 5, partiendo del número 5 al 35 y otra de 3 en 3, partiendo del 7 hasta el 80 (utilice la función seq)."
      ]
    },
    {
      "cell_type": "code",
      "metadata": {
        "id": "pwofeLab0PTC",
        "colab_type": "code",
        "colab": {}
      },
      "source": [
        ""
      ],
      "execution_count": 0,
      "outputs": []
    },
    {
      "cell_type": "code",
      "metadata": {
        "id": "4pxs91my0PXn",
        "colab_type": "code",
        "colab": {}
      },
      "source": [
        ""
      ],
      "execution_count": 0,
      "outputs": []
    },
    {
      "cell_type": "markdown",
      "metadata": {
        "id": "zfgz-UkZ9Cpv",
        "colab_type": "text"
      },
      "source": [
        "Matrices. Las matrices también se pueden crear de manera flexible con función *matrix*, la cual permite alterar la secuencia por default de armado de la matriz; esto es, poder armar la matriz por filas y no por columnas."
      ]
    },
    {
      "cell_type": "code",
      "metadata": {
        "id": "EEfysOwc0Pak",
        "colab_type": "code",
        "colab": {}
      },
      "source": [
        "%%R\n",
        "#mat2 <- matrix(21:60, nrow = 4, ncol = 5, byrow = TRUE)\n",
        "\n",
        "mat2 <- matrix(21:60, nrow = 5, ncol = 4, byrow = TRUE)\n",
        "\n",
        "#mat2 <- matrix(21:60, nrow = 5, ncol = 4)"
      ],
      "execution_count": 0,
      "outputs": []
    },
    {
      "cell_type": "code",
      "metadata": {
        "id": "rsZ1375M0PV_",
        "colab_type": "code",
        "colab": {
          "base_uri": "https://localhost:8080/",
          "height": 118
        },
        "outputId": "b66f8683-4ab6-44fc-fc54-161c17d21389"
      },
      "source": [
        "%%R\n",
        "print(mat2)"
      ],
      "execution_count": 44,
      "outputs": [
        {
          "output_type": "display_data",
          "data": {
            "text/plain": [
              "     [,1] [,2] [,3] [,4]\n",
              "[1,]   21   22   23   24\n",
              "[2,]   25   26   27   28\n",
              "[3,]   29   30   31   32\n",
              "[4,]   33   34   35   36\n",
              "[5,]   37   38   39   40\n"
            ]
          },
          "metadata": {
            "tags": []
          }
        }
      ]
    },
    {
      "cell_type": "code",
      "metadata": {
        "id": "KmeY-fvs0PNJ",
        "colab_type": "code",
        "colab": {}
      },
      "source": [
        "%%R\n",
        "rownames(mat2)<- c(\"ID Alumno\",\"ID Profesor\",\"ID Administrativo\",\"ID Investigador\",\"ID Interino\")\n",
        "colnames(mat2)<- c(\"Tipo A\",\"Tipo B\",\"Tipo C\",\"Tipo D\")"
      ],
      "execution_count": 0,
      "outputs": []
    },
    {
      "cell_type": "code",
      "metadata": {
        "id": "DTqRLE2yIZxy",
        "colab_type": "code",
        "colab": {
          "base_uri": "https://localhost:8080/",
          "height": 118
        },
        "outputId": "a707dfc5-87c1-468f-c293-3140b39d215b"
      },
      "source": [
        "%%R\n",
        "mat2"
      ],
      "execution_count": 46,
      "outputs": [
        {
          "output_type": "display_data",
          "data": {
            "text/plain": [
              "                  Tipo A Tipo B Tipo C Tipo D\n",
              "ID Alumno             21     22     23     24\n",
              "ID Profesor           25     26     27     28\n",
              "ID Administrativo     29     30     31     32\n",
              "ID Investigador       33     34     35     36\n",
              "ID Interino           37     38     39     40\n"
            ]
          },
          "metadata": {
            "tags": []
          }
        }
      ]
    },
    {
      "cell_type": "markdown",
      "metadata": {
        "id": "BAQZtHyPJqsG",
        "colab_type": "text"
      },
      "source": [
        "Ejercicio.\n",
        "\n",
        "1.   Crear una matriz que muestre las ganancias en millones de dólares dentro y fuera de E.U.A, de las siguientes películas: Episodio IV (E.U.A=460, O.P=314), Episodio V (E.U.A=290, O.P=247) y Episodio VI (E.U.A=309, O.P=165)\n",
        "2.   Asignar nombre a filas y columnas a la matriz star_wars_matriz\n",
        "\n"
      ]
    },
    {
      "cell_type": "markdown",
      "metadata": {
        "id": "no6Xh8CkKDja",
        "colab_type": "text"
      },
      "source": [
        "Funciones rbind() y cbind()\n"
      ]
    },
    {
      "cell_type": "code",
      "metadata": {
        "id": "iVnsrLEBIZ2J",
        "colab_type": "code",
        "colab": {
          "base_uri": "https://localhost:8080/",
          "height": 151
        },
        "outputId": "ac3ae26b-eac9-4ace-a691-bb2b2a54f55f"
      },
      "source": [
        "%%R\n",
        "mat3 <- rbind(c(1.5, 2.7, -3.9), c(1.4, -1.1, 2.1)) \n",
        "print(mat3)\n",
        "mat4<- cbind(c(2,4,6,8), c(1,0.5,1,0.3), c(5,8,0,1))\n",
        "print(mat4)"
      ],
      "execution_count": 47,
      "outputs": [
        {
          "output_type": "display_data",
          "data": {
            "text/plain": [
              "     [,1] [,2] [,3]\n",
              "[1,]  1.5  2.7 -3.9\n",
              "[2,]  1.4 -1.1  2.1\n",
              "     [,1] [,2] [,3]\n",
              "[1,]    2  1.0    5\n",
              "[2,]    4  0.5    8\n",
              "[3,]    6  1.0    0\n",
              "[4,]    8  0.3    1\n"
            ]
          },
          "metadata": {
            "tags": []
          }
        }
      ]
    },
    {
      "cell_type": "markdown",
      "metadata": {
        "id": "ofweL4CoK4nm",
        "colab_type": "text"
      },
      "source": [
        "Listas\n",
        "Una lista en R permite reunir una variedad de objetos bajo un nombre (es decir, el nombre de la lista) de una manera ordenada. Estos objetos pueden ser matrices, vectores, marcos de datos, incluso otras listas, etc. No se requiere que estos objetos estén relacionados entre sí de ninguna manera.\n",
        "\n",
        "Una lista, de la clase list(), es una clase de datos que puede contener cero o más elementos, cada uno de los cuales puede ser de una clase distinta.\n",
        "\n",
        "Por ejemplo, se puede concebir una lista para representar una familia: mamá, papá, años de casados, hijos, y edad de los hijos. Esto quiere decir, que dicha lista tiene información alfanumérica."
      ]
    },
    {
      "cell_type": "code",
      "metadata": {
        "id": "b0-1yb6NIZ61",
        "colab_type": "code",
        "colab": {
          "base_uri": "https://localhost:8080/",
          "height": 521
        },
        "outputId": "a977aeec-e21f-40c3-9afe-64024d98c310"
      },
      "source": [
        "%%R\n",
        "familia1 <- list(\"Gabriela\", \"Mauricio\", 25, c(\"Alain\", \"Priscila\"), c(18,15))\n",
        "print(familia1)\n",
        "familia1 <- list(Madre=\"Gabriela\", Padre=\"Mauricio\", casados=25, Hijos=c(\"Alain\", \"Priscila\"), Edades=c(18, 15))\n",
        "print(familia1)\n",
        "#Las listas no serían de mucha utilidad sin la posibilidad de tener acceso a sus elementos individuales. \n",
        "#El lenguaje, provee de este acceso mediante tres operadores, : [ ], [[ ]], y $."
      ],
      "execution_count": 49,
      "outputs": [
        {
          "output_type": "display_data",
          "data": {
            "text/plain": [
              "[[1]]\n",
              "[1] \"Gabriela\"\n",
              "\n",
              "[[2]]\n",
              "[1] \"Mauricio\"\n",
              "\n",
              "[[3]]\n",
              "[1] 25\n",
              "\n",
              "[[4]]\n",
              "[1] \"Alain\"    \"Priscila\"\n",
              "\n",
              "[[5]]\n",
              "[1] 18 15\n",
              "\n",
              "$Madre\n",
              "[1] \"Gabriela\"\n",
              "\n",
              "$Padre\n",
              "[1] \"Mauricio\"\n",
              "\n",
              "$casados\n",
              "[1] 25\n",
              "\n",
              "$Hijos\n",
              "[1] \"Alain\"    \"Priscila\"\n",
              "\n",
              "$Edades\n",
              "[1] 18 15\n",
              "\n"
            ]
          },
          "metadata": {
            "tags": []
          }
        }
      ]
    },
    {
      "cell_type": "markdown",
      "metadata": {
        "id": "TFVRsXLyRfmM",
        "colab_type": "text"
      },
      "source": [
        "# Dataframes\n"
      ]
    },
    {
      "cell_type": "markdown",
      "metadata": {
        "id": "dVCwrGBFRimi",
        "colab_type": "text"
      },
      "source": [
        "Es un tipo de variable cuyos componentes pueden ser vectores, matrices o factores, con la única excepción de que las longitudes, o número de renglones, en el caso de matrices, deben coincidir con todos los componentes. La apariencia de un data frame es de una tabla, una forma de crearlos es mediante la función data.frame()"
      ]
    },
    {
      "cell_type": "code",
      "metadata": {
        "id": "5IJ7bE9oIZ-O",
        "colab_type": "code",
        "colab": {
          "base_uri": "https://localhost:8080/",
          "height": 118
        },
        "outputId": "e5f53562-bc68-44d8-c235-b450be7cfe9b"
      },
      "source": [
        "%%R\n",
        "CDMX<-data.frame(Nombre=c(\"Alondra\",\"Berenice\",\"Jorge\",\"Melina\",\"Eleazar\"),Edad=c(37,34,40,25,29),Delegacion=c(\"Xochimilco\",\"Iztacalco\",\"Iztapalapa\",\"Tlalpan\", \"Coyoacan\"),Sexo=c(\"M\",\"M\",\"H\",\"M\",\"H\"),Casado=c(F,T,T,F,T))\n",
        "CDMX"
      ],
      "execution_count": 50,
      "outputs": [
        {
          "output_type": "display_data",
          "data": {
            "text/plain": [
              "    Nombre Edadd Delegacion Sexo Casado\n",
              "1  Alondra    37 Xochimilco    M  FALSE\n",
              "2 Berenice    34  Iztacalco    M   TRUE\n",
              "3    Jorge    40 Iztapalapa    H   TRUE\n",
              "4   Melina    25    Tlalpan    M  FALSE\n",
              "5  Eleazar    29   Coyoacan    H   TRUE\n"
            ]
          },
          "metadata": {
            "tags": []
          }
        }
      ]
    },
    {
      "cell_type": "code",
      "metadata": {
        "id": "bqbqVniYIaCT",
        "colab_type": "code",
        "colab": {}
      },
      "source": [
        "%%R\n",
        "# #Fila 4\n",
        "# persona4<-CDMX[4,]\n",
        "# persona4\n",
        "# # Columna 3\n",
        "# columna3<-CDMX[,3]\n",
        "# columna3\n",
        "\n",
        "# # También se puede llamar a la columna colocando su nombre\n",
        "\n",
        "# columna3<-CDMX[,\"Delegacion\"]\n",
        "# columna3\n",
        "# # Sexo persona 2\n",
        "# persona2_sex<-CDMX[2,4]\n",
        "# persona2_sex\n",
        "# # Estado civil de la persona 3\n",
        "# persona3_edocivil<-CDMX[3,5]\n",
        "# persona3_edocivil\n",
        "# # Delgación de la persona 1\n",
        "# persona1_delega<-CDMX[1,3]\n",
        "# persona1_delega\n",
        "# # Nombre, edad y delgación de la persona 5\n",
        "# persona5_nom_edad_dele<-CDMX[5,1:3]\n",
        "# persona5_nom_edad_dele"
      ],
      "execution_count": 0,
      "outputs": []
    },
    {
      "cell_type": "code",
      "metadata": {
        "id": "sR6N6RsoTtTV",
        "colab_type": "code",
        "colab": {}
      },
      "source": [
        ""
      ],
      "execution_count": 0,
      "outputs": []
    },
    {
      "cell_type": "markdown",
      "metadata": {
        "id": "Zqrr_QUgToRc",
        "colab_type": "text"
      },
      "source": [
        "# Estructuras de control y manejo de datos\n"
      ]
    },
    {
      "cell_type": "markdown",
      "metadata": {
        "id": "tL4GlVH0T94E",
        "colab_type": "text"
      },
      "source": [
        "En R son semejantes a la de otros lenguajes de programación, la construcción en sí misma regresa un valor, que puede, si se quiere, ser asignado a una variable o utilizado de otras maneras.\n",
        "\n",
        "La construcción de un IF admite una sola expresión, pero esta puede ser compuesta, la cual se construye con llaves { }, y las expresiones en su interior, separadas ya sea por el cambio de renglón o por ‘;’."
      ]
    },
    {
      "cell_type": "code",
      "metadata": {
        "id": "InA-ro23IaGg",
        "colab_type": "code",
        "colab": {}
      },
      "source": [
        "%%R\n",
        "num = 2\n",
        "if (num > 25) \n",
        "print(\"SI MAYOR\")\n",
        "\n",
        "# num = 12\n",
        "# if (num > 25) \n",
        "# print(\"SI MAYOR\")\n",
        "\n",
        "# num = 22\n",
        "# if (num > 25) \n",
        "# print(\"SI MAYOR\")\n",
        "\n",
        "# num = 32\n",
        "# if (num > 25) \n",
        "# print(\"SI MAYOR\")"
      ],
      "execution_count": 0,
      "outputs": []
    },
    {
      "cell_type": "code",
      "metadata": {
        "id": "XF2h2J9iIaKU",
        "colab_type": "code",
        "colab": {
          "base_uri": "https://localhost:8080/",
          "height": 67
        },
        "outputId": "6ba732a7-b672-4021-f836-ace4859282ad"
      },
      "source": [
        "%%R\n",
        "# Función que determina si un entero es mayor que 8\n",
        " fun1 <- function(x){\n",
        " if(x >= 8){\n",
        " print(\"x es mayor o igual que 8\")}\n",
        " else{\n",
        " print(\"x es menor que 8\")}\n",
        " }\n",
        "fun1(4)\n",
        "fun1(8)\n",
        "fun1(15)"
      ],
      "execution_count": 54,
      "outputs": [
        {
          "output_type": "display_data",
          "data": {
            "text/plain": [
              "[1] \"x es menor que 8\"\n",
              "[1] \"x es mayor o igual que 8\"\n",
              "[1] \"x es mayor o igual que 8\"\n"
            ]
          },
          "metadata": {
            "tags": []
          }
        }
      ]
    },
    {
      "cell_type": "markdown",
      "metadata": {
        "id": "arHdaswjU5DC",
        "colab_type": "text"
      },
      "source": [
        "Crear un IF donde se muestre que cualquier número entero menor a 10 tiene un rango bajo, mayor a 10 pero menor a 20 pertenece a un rango medio, y si es mayor a 20 entonces tendrá un rango alto."
      ]
    },
    {
      "cell_type": "code",
      "metadata": {
        "id": "wkhv5lqcIaNo",
        "colab_type": "code",
        "colab": {}
      },
      "source": [
        "%%R\n",
        "norpa <- function(x){\n",
        "    if (x < 10) {\n",
        "        print(\"RANGO BAJO\")\n",
        "        print(\"primer renglon\")\n",
        "        } else\n",
        "        if ( x >=10 && x <= 20) {\n",
        "            print(\"segundo renglon\")\n",
        "            print(\"RANGO MEDIO\")\n",
        "            } else {\n",
        "                print(\"RANGO ALTO\")\n",
        "}\n",
        "}"
      ],
      "execution_count": 0,
      "outputs": []
    },
    {
      "cell_type": "code",
      "metadata": {
        "id": "XTV6u4wDVtBm",
        "colab_type": "code",
        "colab": {
          "base_uri": "https://localhost:8080/",
          "height": 118
        },
        "outputId": "e65b23cd-90c2-4e78-ed42-c421bcb75c39"
      },
      "source": [
        "%%R\n",
        "norpa(1)\n",
        "norpa(10)\n",
        "norpa(50)\n",
        "norpa(28)"
      ],
      "execution_count": 61,
      "outputs": [
        {
          "output_type": "display_data",
          "data": {
            "text/plain": [
              "[1] \"RANGO BAJO\"\n",
              "[1] \"primer renglon\"\n",
              "[1] \"segundo renglon\"\n",
              "[1] \"RANGO MEDIO\"\n",
              "[1] \"RANGO ALTO\"\n",
              "[1] \"RANGO ALTO\"\n"
            ]
          },
          "metadata": {
            "tags": []
          }
        }
      ]
    },
    {
      "cell_type": "markdown",
      "metadata": {
        "id": "ndh9PjMSWyYY",
        "colab_type": "text"
      },
      "source": [
        "El número de veces que se repite la expresión o expresiones englobadas en la instrucción, puede estar explícita en ella misma."
      ]
    },
    {
      "cell_type": "code",
      "metadata": {
        "id": "1EHt43k5VtHK",
        "colab_type": "code",
        "colab": {
          "base_uri": "https://localhost:8080/",
          "height": 269
        },
        "outputId": "b4b5216c-fad2-4713-eaed-9a88cff6b353"
      },
      "source": [
        "%%R\n",
        "for (i in 1:15) print(i^2)"
      ],
      "execution_count": 62,
      "outputs": [
        {
          "output_type": "display_data",
          "data": {
            "text/plain": [
              "[1] 1\n",
              "[1] 4\n",
              "[1] 9\n",
              "[1] 16\n",
              "[1] 25\n",
              "[1] 36\n",
              "[1] 49\n",
              "[1] 64\n",
              "[1] 81\n",
              "[1] 100\n",
              "[1] 121\n",
              "[1] 144\n",
              "[1] 169\n",
              "[1] 196\n",
              "[1] 225\n"
            ]
          },
          "metadata": {
            "tags": []
          }
        }
      ]
    },
    {
      "cell_type": "code",
      "metadata": {
        "id": "ZPc4d-ytVtKN",
        "colab_type": "code",
        "colab": {
          "base_uri": "https://localhost:8080/",
          "height": 101
        },
        "outputId": "3aec7e36-242a-458e-80fe-d3bf99298337"
      },
      "source": [
        "%%R\n",
        "letras <- c(\"C\", \"A\", \"L\", \"O\", \"R\")\n",
        "for (i in letras) {\n",
        "print(i)\n",
        "}"
      ],
      "execution_count": 70,
      "outputs": [
        {
          "output_type": "display_data",
          "data": {
            "text/plain": [
              "[1] \"C\"\n",
              "[1] \"A\"\n",
              "[1] \"L\"\n",
              "[1] \"O\"\n",
              "[1] \"R\"\n"
            ]
          },
          "metadata": {
            "tags": []
          }
        }
      ]
    },
    {
      "cell_type": "code",
      "metadata": {
        "id": "u4vzHop7VtNJ",
        "colab_type": "code",
        "colab": {
          "base_uri": "https://localhost:8080/",
          "height": 34
        },
        "outputId": "8866f770-6ccd-48d4-b3f5-b1ce0f0e8dcb"
      },
      "source": [
        "%%R\n",
        "letras[1]"
      ],
      "execution_count": 68,
      "outputs": [
        {
          "output_type": "display_data",
          "data": {
            "text/plain": [
              "[1] \"C\"\n"
            ]
          },
          "metadata": {
            "tags": []
          }
        }
      ]
    },
    {
      "cell_type": "code",
      "metadata": {
        "id": "U_xmqr8VVtQg",
        "colab_type": "code",
        "colab": {}
      },
      "source": [
        ""
      ],
      "execution_count": 0,
      "outputs": []
    },
    {
      "cell_type": "code",
      "metadata": {
        "id": "HIeDHdpYVtTD",
        "colab_type": "code",
        "colab": {}
      },
      "source": [
        ""
      ],
      "execution_count": 0,
      "outputs": []
    },
    {
      "cell_type": "code",
      "metadata": {
        "id": "ScwRH6DqVtV4",
        "colab_type": "code",
        "colab": {}
      },
      "source": [
        ""
      ],
      "execution_count": 0,
      "outputs": []
    }
  ]
}